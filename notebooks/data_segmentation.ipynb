{
 "cells": [
  {
   "cell_type": "code",
   "execution_count": 96,
   "metadata": {},
   "outputs": [],
   "source": [
    "import json\n",
    "import pandas as pd\n",
    "from os.path import join\n",
    "from scipy.io import savemat\n",
    "import numpy as np\n",
    "import itertools\n",
    "from surgeon_recording.reader import Reader\n",
    "from scipy.io import savemat\n",
    "from sklearn.preprocessing import MinMaxScaler"
   ]
  },
  {
   "cell_type": "code",
   "execution_count": 2,
   "metadata": {},
   "outputs": [],
   "source": [
    "reader = Reader()"
   ]
  },
  {
   "cell_type": "code",
   "execution_count": 3,
   "metadata": {},
   "outputs": [],
   "source": [
    "datafolder = join('..', 'data', 'cuts')"
   ]
  },
  {
   "cell_type": "code",
   "execution_count": 80,
   "metadata": {},
   "outputs": [],
   "source": [
    "exp_folders = [join(datafolder, 'cut' + str(i)) for i in (np.arange(5) + 2)]"
   ]
  },
  {
   "cell_type": "code",
   "execution_count": 81,
   "metadata": {},
   "outputs": [
    {
     "data": {
      "text/plain": [
       "['../data/cuts/cut2',\n",
       " '../data/cuts/cut3',\n",
       " '../data/cuts/cut4',\n",
       " '../data/cuts/cut5',\n",
       " '../data/cuts/cut6']"
      ]
     },
     "execution_count": 81,
     "metadata": {},
     "output_type": "execute_result"
    }
   ],
   "source": [
    "exp_folders"
   ]
  },
  {
   "cell_type": "code",
   "execution_count": 82,
   "metadata": {},
   "outputs": [],
   "source": [
    "def insert_row(data, row):\n",
    "    return data.append(pd.Series(row), ignore_index=True)"
   ]
  },
  {
   "cell_type": "code",
   "execution_count": 83,
   "metadata": {},
   "outputs": [],
   "source": [
    "def downsample(data, time_vector):\n",
    "    current_time_index = 0\n",
    "    downsampled_data = pd.DataFrame(columns=data.columns)\n",
    "    for i in range(len(time_vector)):\n",
    "        t = time_vector.iloc[i]\n",
    "        start_time = current_time_index\n",
    "        while data['relative_time'].iloc[current_time_index] < t:\n",
    "            current_time_index = current_time_index + 1\n",
    "        stop_time = current_time_index\n",
    "        average_data = data.iloc[start_time:stop_time, :].mean()\n",
    "        downsampled_data = insert_row(downsampled_data, average_data)\n",
    "    return downsampled_data"
   ]
  },
  {
   "cell_type": "code",
   "execution_count": 108,
   "metadata": {},
   "outputs": [],
   "source": [
    "def preprocess_motion(data, frames_list, scaler):\n",
    "    column_list = list(itertools.chain.from_iterable((f + '_x', f + '_y', f + '_z') for f in frames_list))\n",
    "    data[column_list] = 2 * scaler.fit_transform(data[column_list]) - 1"
   ]
  },
  {
   "cell_type": "code",
   "execution_count": 109,
   "metadata": {},
   "outputs": [],
   "source": [
    "def preprocess_emg(data, emg_list, scaler):\n",
    "    # first take the absolute value of the data\n",
    "    data[emg_list] = data[emg_list].abs()\n",
    "    # then apply a minmax scaler\n",
    "    data[emg_list] = 2 * scaler.fit_transform(data[emg_list]) - 1"
   ]
  },
  {
   "cell_type": "code",
   "execution_count": 110,
   "metadata": {},
   "outputs": [],
   "source": [
    "frames_list = ['blade', 'wrist']\n",
    "optitrack_list = list(itertools.chain.from_iterable((f + '_x', f + '_y', f + '_z',\n",
    "                                                     f + '_qx', f + '_qy', f + '_qz', f + '_qw')\n",
    "                                                    for f in frames_list))\n",
    "emg_list = ['emg' + str(i) for i in range(8)]"
   ]
  },
  {
   "cell_type": "code",
   "execution_count": 111,
   "metadata": {},
   "outputs": [],
   "source": [
    "timeseries = []\n",
    "\n",
    "scalers = {}\n",
    "scalers['optitrack'] = MinMaxScaler()\n",
    "scalers['emg'] = MinMaxScaler()\n",
    "\n",
    "for folder in exp_folders:\n",
    "    reader.play(folder)\n",
    "    # extract optitrack data and preprocess them\n",
    "    opt_data = reader.data['optitrack'].reset_index(drop=True)\n",
    "    preprocess_motion(opt_data, frames_list, scalers['optitrack'])\n",
    "    # downsample emg and preprocess it\n",
    "    emg_data = downsample(reader.data['emg'], opt_data['relative_time'])\n",
    "    preprocess_emg(emg_data, emg_list, scalers['emg'])\n",
    "    # merge the data\n",
    "    merge_data = pd.concat([opt_data, emg_data.iloc[:, 3:]], axis=1)\n",
    "    # store in the list\n",
    "    timeseries.append(merge_data)"
   ]
  },
  {
   "cell_type": "code",
   "execution_count": 113,
   "metadata": {},
   "outputs": [],
   "source": [
    "merged_column_list = optitrack_list"
   ]
  },
  {
   "cell_type": "code",
   "execution_count": 114,
   "metadata": {},
   "outputs": [],
   "source": [
    "# drop the data in matlab\n",
    "matdata = {}\n",
    "matdata['timeseries'] = []\n",
    "for t in timeseries:\n",
    "    # drop the index and times columns and convert to numpy array\n",
    "    matdata['timeseries'].append(t[merged_column_list].to_numpy())"
   ]
  },
  {
   "cell_type": "code",
   "execution_count": 115,
   "metadata": {},
   "outputs": [],
   "source": [
    "savemat(\"segmentation_data.mat\", matdata)"
   ]
  },
  {
   "cell_type": "code",
   "execution_count": null,
   "metadata": {},
   "outputs": [],
   "source": []
  }
 ],
 "metadata": {
  "kernelspec": {
   "display_name": "Python 3",
   "language": "python",
   "name": "python3"
  },
  "language_info": {
   "codemirror_mode": {
    "name": "ipython",
    "version": 3
   },
   "file_extension": ".py",
   "mimetype": "text/x-python",
   "name": "python",
   "nbconvert_exporter": "python",
   "pygments_lexer": "ipython3",
   "version": "3.7.7"
  }
 },
 "nbformat": 4,
 "nbformat_minor": 4
}
