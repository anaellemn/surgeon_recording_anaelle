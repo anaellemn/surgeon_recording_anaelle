{
 "cells": [
  {
   "cell_type": "code",
   "execution_count": null,
   "metadata": {},
   "outputs": [],
   "source": [
    "from surgeon_recording.reader import Reader\n",
    "from glob import glob\n",
    "from os.path import join\n",
    "import os\n",
    "import numpy as np\n",
    "from scipy import stats\n",
    "import plotly.express as px"
   ]
  },
  {
   "cell_type": "code",
   "execution_count": null,
   "metadata": {},
   "outputs": [],
   "source": [
    "reader = Reader()"
   ]
  },
  {
   "cell_type": "code",
   "execution_count": null,
   "metadata": {},
   "outputs": [],
   "source": [
    "data_folder = join('..', 'data')"
   ]
  },
  {
   "cell_type": "code",
   "execution_count": null,
   "metadata": {},
   "outputs": [],
   "source": [
    "dir_list = ['knots_1year', 'knots_3year', 'knots_expert1', 'expert1_no_tps', 'expert1_no_opt', 'expert1_no_tps_no_opt']"
   ]
  },
  {
   "cell_type": "code",
   "execution_count": null,
   "metadata": {},
   "outputs": [],
   "source": [
    "knot_time = {}\n",
    "tps_forces = {}\n",
    "\n",
    "for d in dir_list:\n",
    "    knots_dir = [x[0] for x in os.walk(join(data_folder, d))][1:]\n",
    "    knots_dir.sort()\n",
    "    knot_time[d] = []\n",
    "    tps_forces[d] = {}\n",
    "    for l in ['right', 'left']:\n",
    "        for f in ['index', 'middle', 'thumb']:\n",
    "            key = l + '_' + f + '_calibrated'\n",
    "            tps_forces[d][key] = []\n",
    "    \n",
    "    for kd in knots_dir:\n",
    "        reader.play(kd)\n",
    "        time = reader.data['camera']['relative_time'].iloc[-1]\n",
    "        knot_time[d].append(time)\n",
    "        for l in ['right', 'left']:\n",
    "            for f in ['index', 'middle', 'thumb']:\n",
    "                key = l + '_' + f + '_calibrated'\n",
    "                tps_forces[d][key].append(reader.data['tps'][key].to_numpy())\n",
    "        \n",
    "# add time for the knots of 1styear not segmented\n",
    "knot_time['knots_1year'] = [72.6, 76.2, 117.16, 121.8] + knot_time['knots_1year']"
   ]
  },
  {
   "cell_type": "markdown",
   "metadata": {},
   "source": [
    "# Execution time"
   ]
  },
  {
   "cell_type": "code",
   "execution_count": null,
   "metadata": {},
   "outputs": [],
   "source": [
    "for key, value in knot_time.items():\n",
    "    print(key, np.mean(value), np.std(value))"
   ]
  },
  {
   "cell_type": "code",
   "execution_count": null,
   "metadata": {},
   "outputs": [],
   "source": [
    "knot_time"
   ]
  },
  {
   "cell_type": "markdown",
   "metadata": {},
   "source": [
    "## Differences between subjects"
   ]
  },
  {
   "cell_type": "code",
   "execution_count": null,
   "metadata": {},
   "outputs": [],
   "source": [
    "stats.ttest_ind(knot_time['knots_1year'], knot_time['knots_3year'])"
   ]
  },
  {
   "cell_type": "code",
   "execution_count": null,
   "metadata": {},
   "outputs": [],
   "source": [
    "stats.ttest_ind(knot_time['knots_1year'], knot_time['knots_expert1'])"
   ]
  },
  {
   "cell_type": "code",
   "execution_count": null,
   "metadata": {},
   "outputs": [],
   "source": [
    "stats.ttest_ind(knot_time['knots_3year'], knot_time['knots_expert1'])"
   ]
  },
  {
   "cell_type": "markdown",
   "metadata": {},
   "source": [
    "No differences between 1st and 3rd year interns, difference beween them and expert"
   ]
  },
  {
   "cell_type": "markdown",
   "metadata": {},
   "source": [
    "## Differences with and without sensors"
   ]
  },
  {
   "cell_type": "code",
   "execution_count": null,
   "metadata": {},
   "outputs": [],
   "source": [
    "stats.ttest_rel(knot_time['knots_expert1'][-3:], knot_time['expert1_no_tps'][-3:])"
   ]
  },
  {
   "cell_type": "code",
   "execution_count": null,
   "metadata": {},
   "outputs": [],
   "source": [
    "stats.ttest_rel(knot_time['knots_expert1'][-3:], knot_time['expert1_no_opt'][-3:])"
   ]
  },
  {
   "cell_type": "code",
   "execution_count": null,
   "metadata": {},
   "outputs": [],
   "source": [
    "stats.ttest_rel(knot_time['knots_expert1'][-3:], knot_time['expert1_no_tps_no_opt'][-3:])"
   ]
  },
  {
   "cell_type": "code",
   "execution_count": null,
   "metadata": {},
   "outputs": [],
   "source": [
    "stats.ttest_rel(knot_time['expert1_no_tps'][-3:], knot_time['expert1_no_opt'][-3:])"
   ]
  },
  {
   "cell_type": "code",
   "execution_count": null,
   "metadata": {},
   "outputs": [],
   "source": [
    "stats.ttest_rel(knot_time['expert1_no_tps'][-3:], knot_time['expert1_no_tps_no_opt'][-3:])"
   ]
  },
  {
   "cell_type": "code",
   "execution_count": null,
   "metadata": {},
   "outputs": [],
   "source": [
    "stats.ttest_rel(knot_time['expert1_no_opt'][-3:], knot_time['expert1_no_tps_no_opt'][-3:])"
   ]
  },
  {
   "cell_type": "markdown",
   "metadata": {},
   "source": [
    "No significant difference in terms of execution time"
   ]
  },
  {
   "cell_type": "markdown",
   "metadata": {},
   "source": [
    "## Adaptation"
   ]
  },
  {
   "cell_type": "code",
   "execution_count": null,
   "metadata": {},
   "outputs": [],
   "source": [
    "print(np.mean(knot_time['knots_expert1'][:4]), np.std(knot_time['knots_expert1'][:4]))\n",
    "print(np.mean(knot_time['knots_expert1'][4:8]), np.std(knot_time['knots_expert1'][4:8]))\n",
    "print(np.mean(knot_time['knots_expert1'][8:12]), np.std(knot_time['knots_expert1'][8:12]))"
   ]
  },
  {
   "cell_type": "code",
   "execution_count": null,
   "metadata": {},
   "outputs": [],
   "source": [
    "stats.ttest_rel(knot_time['knots_expert1'][:4], knot_time['knots_expert1'][4:8])"
   ]
  },
  {
   "cell_type": "code",
   "execution_count": null,
   "metadata": {},
   "outputs": [],
   "source": [
    "stats.ttest_rel(knot_time['knots_expert1'][4:8], knot_time['knots_expert1'][8:12])"
   ]
  },
  {
   "cell_type": "code",
   "execution_count": null,
   "metadata": {},
   "outputs": [],
   "source": [
    "stats.ttest_rel(knot_time['knots_expert1'][:4], knot_time['knots_expert1'][8:12])"
   ]
  },
  {
   "cell_type": "markdown",
   "metadata": {},
   "source": [
    "No sign of adatptation for expert"
   ]
  },
  {
   "cell_type": "code",
   "execution_count": null,
   "metadata": {},
   "outputs": [],
   "source": [
    "stats.ttest_rel(knot_time['knots_1year'][:4], knot_time['knots_1year'][-4:])"
   ]
  },
  {
   "cell_type": "code",
   "execution_count": null,
   "metadata": {},
   "outputs": [],
   "source": [
    "stats.ttest_rel(knot_time['knots_3year'][:3], knot_time['knots_3year'][-3:])"
   ]
  },
  {
   "cell_type": "markdown",
   "metadata": {},
   "source": [
    "No sign of adatptation for any of them"
   ]
  },
  {
   "cell_type": "markdown",
   "metadata": {},
   "source": [
    "# TPS Data"
   ]
  },
  {
   "cell_type": "code",
   "execution_count": null,
   "metadata": {},
   "outputs": [],
   "source": [
    "tps_forces"
   ]
  },
  {
   "cell_type": "code",
   "execution_count": null,
   "metadata": {},
   "outputs": [],
   "source": []
  }
 ],
 "metadata": {
  "kernelspec": {
   "display_name": "Python 3",
   "language": "python",
   "name": "python3"
  },
  "language_info": {
   "codemirror_mode": {
    "name": "ipython",
    "version": 3
   },
   "file_extension": ".py",
   "mimetype": "text/x-python",
   "name": "python",
   "nbconvert_exporter": "python",
   "pygments_lexer": "ipython3",
   "version": "3.7.7"
  }
 },
 "nbformat": 4,
 "nbformat_minor": 4
}
