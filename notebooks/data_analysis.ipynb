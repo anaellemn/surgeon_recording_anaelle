{
 "cells": [
  {
   "cell_type": "code",
   "execution_count": 1,
   "metadata": {},
   "outputs": [],
   "source": [
    "from surgeon_recording.reader import Reader\n",
    "from glob import glob\n",
    "from os.path import join\n",
    "import os\n",
    "import numpy as np\n",
    "from scipy import stats\n",
    "import plotly.express as px\n",
    "import plotly.graph_objects as go\n",
    "from copy import deepcopy\n",
    "import pandas as pd"
   ]
  },
  {
   "cell_type": "code",
   "execution_count": 2,
   "metadata": {},
   "outputs": [],
   "source": [
    "reader = Reader()"
   ]
  },
  {
   "cell_type": "code",
   "execution_count": 11,
   "metadata": {},
   "outputs": [
    {
     "name": "stdout",
     "output_type": "stream",
     "text": [
      "['15', '16', '17', '18', '19', '20', '21', '23']\n"
     ]
    }
   ],
   "source": [
    "data_folder = join('..', 'data') #join strings .. and data with / as separator\n",
    "dir_list = ['15', '16', '17', '18', '19', '20', '21', '23'] #liste des directory (noms des fichiers)\n",
    "experiment = 'chicken' # variable nom de l-exp\n",
    "print(dir_list)"
   ]
  },
  {
   "cell_type": "code",
   "execution_count": 52,
   "metadata": {},
   "outputs": [],
   "source": [
    "blacklist = []\n",
    "#blacklist = ['1/run2', '3/run3', '3/run5']\n",
    "#blacklist = ['7/run2']\n",
    "#blacklist = [join(data_folder, x) for x in blacklist]"
   ]
  },
  {
   "cell_type": "code",
   "execution_count": 53,
   "metadata": {},
   "outputs": [
    {
     "name": "stdout",
     "output_type": "stream",
     "text": [
      "['neuro', 'plastic']\n"
     ]
    }
   ],
   "source": [
    "specialty_keys = [\"neuro\", \"plastic\"] #variables speciality\n",
    "expertise_keys = [\"novice\", \"expert\"] #variable skill level\n",
    "print(specialty_keys)\n"
   ]
  },
  {
   "cell_type": "code",
   "execution_count": 58,
   "metadata": {
    "tags": []
   },
   "outputs": [
    {
     "name": "stdout",
     "output_type": "stream",
     "text": [
      "../data/15/chicken/run1\n",
      "../data/15/chicken/run3\n",
      "../data/16/chicken/run1\n",
      "../data/17/chicken/run1\n",
      "../data/18/chicken/run1\n",
      "../data/19/chicken/run1\n",
      "../data/20/chicken/run1\n",
      "../data/21/chicken/run1\n",
      "../data/23/chicken/run1\n",
      "../data/23/chicken/run2\n"
     ]
    }
   ],
   "source": [
    "knot_time = {} #declaration variables\n",
    "tps_forces = {}\n",
    "emg_data = {}\n",
    "tps_data_type = 'raw'\n",
    "\n",
    "for d in dir_list: #d prend les valeurs de dir_list a la suite\n",
    "    knots_dir = [x[0] for x in os.walk(join(data_folder, d, experiment))][1:] \n",
    "    #boucle: x prend les valeurs des fichiers dans le directory ../data/d/experiment pour avoir les differents run\n",
    "    #mais on obtient pour chaque fichier son path et la liste des sous fichiers puis pour chaque sous fichiers sont path et la liste des sous sous fichiers. Pour avoir path des run nous on prend que le \n",
    "    # path du fichier et des sous fichiers = la premiere valeur de la liste donc x[0]\n",
    "    # on prend la liste de 1 a end car sinon on a aussi le directory d'avant en dehors des run\n",
    "    \n",
    "    #print(knots_dir)\n",
    "    \n",
    "\n",
    "    knots_dir.sort() #sorts elements of the knots_dir list by alphabetical order\n",
    "    knot_time[d] = []\n",
    "    tps_forces[d] = {}\n",
    "    emg_data[d] = {}\n",
    "    \n",
    "    for l in ['right', 'left']:\n",
    "        for f in ['index', 'middle', 'thumb']:\n",
    "            key = l + '_' + f + '_' + tps_data_type #righ_index_raw, right_middle_raw... = combinaisons possibles pour les sensors\n",
    "            tps_forces[d][key] = []                 #prepare un emplacement pour chaque combinaison d key {'15':{'right_index_raw': [], '...':[],.....}}\n",
    "            \n",
    "    #print(tps_forces)\n",
    "            \n",
    "    for l in ['emg' + str(x) for x in range(8)]:  #l prend les valeurs emg1, emg2, emg3, emg4....\n",
    "         emg_data[d][l] = []                      #prepare un emplacement pour chaque combinaison d key {'15':{'emg1': [], '...':[],.....}}\n",
    "        \n",
    "    for kd in knots_dir:         #kd prend les valeurs des paths\n",
    "        if not kd in blacklist:  #si le path n'est pas dans blacklist\n",
    "            print(kd)\n",
    "            reader.play(kd)      #utilise fonction play dans librairie reader sur le fichier kd\n",
    "            time = reader.data['camera']['relative_time'].iloc[-1]    #get last row (iloc) of the relative time column of the csv file camera = donne total time\n",
    "            #print(time)\n",
    "            knot_time[d].append(time)      #ajoute la variable time a la liste knot_time pour chaque numero de test d\n",
    "            for l in ['right', 'left']:    #l prend les valeurs right et left\n",
    "                for f in ['index', 'middle', 'thumb']:         #f prend les valeurs pour repasser sur toutes les combinaisons\n",
    "                    key = l + '_' + f + '_' + tps_data_type    #redefinit les key a chaque fois car on les a pas stockees\n",
    "                    tps_forces[d][key].append(reader.data['tps'][key].to_numpy())   # ajoute pour chaque combinaison les data du fichier csv `tps`, de la colonne avec la key comme nom\n",
    "                    #ajoute toutes les data sous forme de NumPy array\n",
    "            for l in ['emg' + str(x) for x in range(8)]:       #l reprend les valeurs de emg\n",
    "                emg_data[d][l].append(np.absolute(reader.data['emg'][l].to_numpy()))      #prend les valeurs aboslues dans le fichier emg, pour les colonnes nommees l, les met\n",
    "                #sous forme d-array numpy et les ajoute a emg_data pour chaque test"
   ]
  },
  {
   "cell_type": "code",
   "execution_count": 59,
   "metadata": {},
   "outputs": [],
   "source": [
    "subject_data = pd.read_csv(join(data_folder,\"subject_data.csv\"))   #reads csv of subject data and convert it as dataframe"
   ]
  },
  {
   "cell_type": "code",
   "execution_count": 64,
   "metadata": {},
   "outputs": [
    {
     "data": {
      "text/html": [
       "<div>\n",
       "<style scoped>\n",
       "    .dataframe tbody tr th:only-of-type {\n",
       "        vertical-align: middle;\n",
       "    }\n",
       "\n",
       "    .dataframe tbody tr th {\n",
       "        vertical-align: top;\n",
       "    }\n",
       "\n",
       "    .dataframe thead th {\n",
       "        text-align: right;\n",
       "    }\n",
       "</style>\n",
       "<table border=\"1\" class=\"dataframe\">\n",
       "  <thead>\n",
       "    <tr style=\"text-align: right;\">\n",
       "      <th></th>\n",
       "      <th>subject</th>\n",
       "      <th>gender</th>\n",
       "      <th>strong arm</th>\n",
       "      <th>age</th>\n",
       "      <th>specialty</th>\n",
       "      <th>level</th>\n",
       "      <th>ali score</th>\n",
       "      <th>experience</th>\n",
       "    </tr>\n",
       "  </thead>\n",
       "  <tbody>\n",
       "    <tr>\n",
       "      <th>0</th>\n",
       "      <td>11</td>\n",
       "      <td>M</td>\n",
       "      <td>RH</td>\n",
       "      <td>37</td>\n",
       "      <td>plastic</td>\n",
       "      <td>expert</td>\n",
       "      <td>5</td>\n",
       "      <td>NaN</td>\n",
       "    </tr>\n",
       "    <tr>\n",
       "      <th>1</th>\n",
       "      <td>12</td>\n",
       "      <td>F</td>\n",
       "      <td>RH</td>\n",
       "      <td>35</td>\n",
       "      <td>hand</td>\n",
       "      <td>intermediate</td>\n",
       "      <td>6</td>\n",
       "      <td>NaN</td>\n",
       "    </tr>\n",
       "    <tr>\n",
       "      <th>2</th>\n",
       "      <td>13</td>\n",
       "      <td>M</td>\n",
       "      <td>RH</td>\n",
       "      <td>34</td>\n",
       "      <td>neuro</td>\n",
       "      <td>intermediate</td>\n",
       "      <td>6</td>\n",
       "      <td>NaN</td>\n",
       "    </tr>\n",
       "    <tr>\n",
       "      <th>3</th>\n",
       "      <td>14</td>\n",
       "      <td>M</td>\n",
       "      <td>RH</td>\n",
       "      <td>32</td>\n",
       "      <td>ortho/hand</td>\n",
       "      <td>novice/intermediate</td>\n",
       "      <td>8</td>\n",
       "      <td>NaN</td>\n",
       "    </tr>\n",
       "    <tr>\n",
       "      <th>4</th>\n",
       "      <td>15</td>\n",
       "      <td>F</td>\n",
       "      <td>RH</td>\n",
       "      <td>34</td>\n",
       "      <td>plastic</td>\n",
       "      <td>novice</td>\n",
       "      <td>8</td>\n",
       "      <td>7.0</td>\n",
       "    </tr>\n",
       "    <tr>\n",
       "      <th>5</th>\n",
       "      <td>16</td>\n",
       "      <td>M</td>\n",
       "      <td>RH</td>\n",
       "      <td>32</td>\n",
       "      <td>neuro</td>\n",
       "      <td>novice</td>\n",
       "      <td>5</td>\n",
       "      <td>2.0</td>\n",
       "    </tr>\n",
       "    <tr>\n",
       "      <th>6</th>\n",
       "      <td>17</td>\n",
       "      <td>M</td>\n",
       "      <td>RH</td>\n",
       "      <td>50</td>\n",
       "      <td>neuro</td>\n",
       "      <td>expert</td>\n",
       "      <td>5</td>\n",
       "      <td>22.0</td>\n",
       "    </tr>\n",
       "    <tr>\n",
       "      <th>7</th>\n",
       "      <td>18</td>\n",
       "      <td>M</td>\n",
       "      <td>RH</td>\n",
       "      <td>38</td>\n",
       "      <td>plastic</td>\n",
       "      <td>novice</td>\n",
       "      <td>5</td>\n",
       "      <td>8.0</td>\n",
       "    </tr>\n",
       "    <tr>\n",
       "      <th>8</th>\n",
       "      <td>19</td>\n",
       "      <td>M</td>\n",
       "      <td>RH</td>\n",
       "      <td>31</td>\n",
       "      <td>neuro</td>\n",
       "      <td>novice</td>\n",
       "      <td>5</td>\n",
       "      <td>6.0</td>\n",
       "    </tr>\n",
       "    <tr>\n",
       "      <th>9</th>\n",
       "      <td>20</td>\n",
       "      <td>M</td>\n",
       "      <td>RH</td>\n",
       "      <td>33</td>\n",
       "      <td>neuro</td>\n",
       "      <td>expert</td>\n",
       "      <td>3</td>\n",
       "      <td>11.0</td>\n",
       "    </tr>\n",
       "    <tr>\n",
       "      <th>10</th>\n",
       "      <td>21</td>\n",
       "      <td>F</td>\n",
       "      <td>RH</td>\n",
       "      <td>32</td>\n",
       "      <td>neuro</td>\n",
       "      <td>novice</td>\n",
       "      <td>5</td>\n",
       "      <td>6.0</td>\n",
       "    </tr>\n",
       "    <tr>\n",
       "      <th>11</th>\n",
       "      <td>22</td>\n",
       "      <td>M</td>\n",
       "      <td>RH</td>\n",
       "      <td>48</td>\n",
       "      <td>ortho/hand</td>\n",
       "      <td>expert</td>\n",
       "      <td>4</td>\n",
       "      <td>21.0</td>\n",
       "    </tr>\n",
       "    <tr>\n",
       "      <th>12</th>\n",
       "      <td>23</td>\n",
       "      <td>M</td>\n",
       "      <td>RH</td>\n",
       "      <td>39</td>\n",
       "      <td>plastic</td>\n",
       "      <td>novice</td>\n",
       "      <td>5</td>\n",
       "      <td>0.0</td>\n",
       "    </tr>\n",
       "  </tbody>\n",
       "</table>\n",
       "</div>"
      ],
      "text/plain": [
       "    subject gender strong arm  age   specialty                level  \\\n",
       "0        11      M         RH   37     plastic               expert   \n",
       "1        12      F         RH   35        hand         intermediate   \n",
       "2        13      M         RH   34       neuro         intermediate   \n",
       "3        14      M         RH   32  ortho/hand  novice/intermediate   \n",
       "4        15      F         RH   34     plastic               novice   \n",
       "5        16      M         RH   32       neuro               novice   \n",
       "6        17      M         RH   50       neuro               expert   \n",
       "7        18      M         RH   38     plastic               novice   \n",
       "8        19      M         RH   31       neuro               novice   \n",
       "9        20      M         RH   33       neuro               expert   \n",
       "10       21      F         RH   32       neuro               novice   \n",
       "11       22      M         RH   48  ortho/hand               expert   \n",
       "12       23      M         RH   39     plastic               novice   \n",
       "\n",
       "    ali score  experience  \n",
       "0           5         NaN  \n",
       "1           6         NaN  \n",
       "2           6         NaN  \n",
       "3           8         NaN  \n",
       "4           8         7.0  \n",
       "5           5         2.0  \n",
       "6           5        22.0  \n",
       "7           5         8.0  \n",
       "8           5         6.0  \n",
       "9           3        11.0  \n",
       "10          5         6.0  \n",
       "11          4        21.0  \n",
       "12          5         0.0  "
      ]
     },
     "execution_count": 64,
     "metadata": {},
     "output_type": "execute_result"
    }
   ],
   "source": [
    "subject_data"
   ]
  },
  {
   "cell_type": "code",
   "execution_count": 65,
   "metadata": {},
   "outputs": [
    {
     "data": {
      "text/plain": [
       "{'15': [693.47940325737, 683.5194549560547],\n",
       " '16': [1023.4169497489929],\n",
       " '17': [960.2181010246278],\n",
       " '18': [1775.6249868869781],\n",
       " '19': [938.5969483852386],\n",
       " '20': [970.1291830539703],\n",
       " '21': [1243.4143497943878],\n",
       " '23': [1003.9434921741484, 516.6233413219452]}"
      ]
     },
     "execution_count": 65,
     "metadata": {},
     "output_type": "execute_result"
    }
   ],
   "source": [
    "knot_time"
   ]
  },
  {
   "cell_type": "markdown",
   "metadata": {},
   "source": [
    "# Execution time"
   ]
  },
  {
   "cell_type": "code",
   "execution_count": 66,
   "metadata": {},
   "outputs": [
    {
     "name": "stdout",
     "output_type": "stream",
     "text": [
      "15 688.4994291067123 4.979974150657654\n",
      "16 1023.4169497489929 0.0\n",
      "17 960.2181010246278 0.0\n",
      "18 1775.6249868869781 0.0\n",
      "19 938.5969483852386 0.0\n",
      "20 970.1291830539703 0.0\n",
      "21 1243.4143497943878 0.0\n",
      "23 760.2834167480469 243.66007542610163\n"
     ]
    }
   ],
   "source": [
    "for key, value in knot_time.items():              #les valeurs key et value prennent les valeurs a la suite dans knot time: key puis 1 ou 2 valeurs de temps selon les test\n",
    "    print(key, np.mean(value), np.std(value))     # si plusieurs run, donne moyenne et std du temps d'execution"
   ]
  },
  {
   "cell_type": "markdown",
   "metadata": {},
   "source": [
    "## Differences between subjects"
   ]
  },
  {
   "cell_type": "code",
   "execution_count": 71,
   "metadata": {},
   "outputs": [
    {
     "name": "stdout",
     "output_type": "stream",
     "text": [
      "diff between 15 and 16\n",
      "Ttest_indResult(statistic=nan, pvalue=nan)\n",
      "--------------\n",
      "diff between 15 and 17\n",
      "Ttest_indResult(statistic=nan, pvalue=nan)\n",
      "--------------\n",
      "diff between 15 and 18\n",
      "Ttest_indResult(statistic=nan, pvalue=nan)\n",
      "--------------\n",
      "diff between 15 and 19\n",
      "Ttest_indResult(statistic=nan, pvalue=nan)\n",
      "--------------\n",
      "diff between 15 and 20\n",
      "Ttest_indResult(statistic=nan, pvalue=nan)\n",
      "--------------\n",
      "diff between 15 and 21\n",
      "Ttest_indResult(statistic=nan, pvalue=nan)\n",
      "--------------\n",
      "diff between 15 and 23\n",
      "Ttest_indResult(statistic=-0.2945455852877984, pvalue=0.7961003089551518)\n",
      "--------------\n",
      "diff between 16 and 17\n",
      "Ttest_indResult(statistic=nan, pvalue=nan)\n",
      "--------------\n",
      "diff between 16 and 18\n",
      "Ttest_indResult(statistic=nan, pvalue=nan)\n",
      "--------------\n",
      "diff between 16 and 19\n",
      "Ttest_indResult(statistic=nan, pvalue=nan)\n",
      "--------------\n",
      "diff between 16 and 20\n",
      "Ttest_indResult(statistic=nan, pvalue=nan)\n",
      "--------------\n",
      "diff between 16 and 21\n",
      "Ttest_indResult(statistic=nan, pvalue=nan)\n",
      "--------------\n",
      "diff between 16 and 23\n",
      "Ttest_indResult(statistic=nan, pvalue=nan)\n",
      "--------------\n",
      "diff between 17 and 18\n",
      "Ttest_indResult(statistic=nan, pvalue=nan)\n",
      "--------------\n",
      "diff between 17 and 19\n",
      "Ttest_indResult(statistic=nan, pvalue=nan)\n",
      "--------------\n",
      "diff between 17 and 20\n",
      "Ttest_indResult(statistic=nan, pvalue=nan)\n",
      "--------------\n",
      "diff between 17 and 21\n",
      "Ttest_indResult(statistic=nan, pvalue=nan)\n",
      "--------------\n",
      "diff between 17 and 23\n",
      "Ttest_indResult(statistic=nan, pvalue=nan)\n",
      "--------------\n",
      "diff between 18 and 19\n",
      "Ttest_indResult(statistic=nan, pvalue=nan)\n",
      "--------------\n",
      "diff between 18 and 20\n",
      "Ttest_indResult(statistic=nan, pvalue=nan)\n",
      "--------------\n",
      "diff between 18 and 21\n",
      "Ttest_indResult(statistic=nan, pvalue=nan)\n",
      "--------------\n",
      "diff between 18 and 23\n",
      "Ttest_indResult(statistic=nan, pvalue=nan)\n",
      "--------------\n",
      "diff between 19 and 20\n",
      "Ttest_indResult(statistic=nan, pvalue=nan)\n",
      "--------------\n",
      "diff between 19 and 21\n",
      "Ttest_indResult(statistic=nan, pvalue=nan)\n",
      "--------------\n",
      "diff between 19 and 23\n",
      "Ttest_indResult(statistic=nan, pvalue=nan)\n",
      "--------------\n",
      "diff between 20 and 21\n",
      "Ttest_indResult(statistic=nan, pvalue=nan)\n",
      "--------------\n",
      "diff between 20 and 23\n",
      "Ttest_indResult(statistic=nan, pvalue=nan)\n",
      "--------------\n",
      "diff between 21 and 23\n",
      "Ttest_indResult(statistic=nan, pvalue=nan)\n",
      "--------------\n"
     ]
    }
   ],
   "source": [
    "idx = 0                          # index\n",
    "for subject_id1 in dir_list:     #on prend les numeros des exp (15 a 21) comme identifiant\n",
    "    tmp =  dir_list[idx + 1:]\n",
    "    for subject_id2 in tmp:      #prend tous les autres id a partir de 1 apres pour comparer tous les sujets entre eux\n",
    "        print('diff between ' + subject_id1 + ' and ' + subject_id2)\n",
    "        print(stats.ttest_ind(knot_time[subject_id1], knot_time[subject_id2]))   #t test of knot times between 2 subjects, for every possibilities\n",
    "        #print(knot_time[subject_id1], knot_time[subject_id2])\n",
    "        print('--------------')\n",
    "    idx = idx + 1\n",
    "    \n",
    "    #slmt ok pour 15 et 23 car slmt la qu'on a plus d'une valeur pour les 2 sujets (?)"
   ]
  },
  {
   "cell_type": "markdown",
   "metadata": {},
   "source": [
    "# TPS Data"
   ]
  },
  {
   "cell_type": "code",
   "execution_count": 76,
   "metadata": {},
   "outputs": [],
   "source": [
    "average_tps_per_run = {}\n",
    "for key, value in tps_forces.items():     #prend key la premieres valeur et tous les autres items vont dans value, pour toutes les lignes\\key de la structure (value: ref finger et mesures)\n",
    "    #print(tps_forces.items())\n",
    "    average_tps_per_run[key] = {}\n",
    "    for finger, values in value.items():  #pour chaque valeurs de value, on met la premiere dans finger et reste (mesures) dans values et on boucle\n",
    "        average_tps_per_run[key][finger] = []\n",
    "        for run in values:                #pour chque valeur dans values on boucle\n",
    "            average_tps_per_run[key][finger].append(np.mean(run))     #met dans la structure la valeur moyenne des mesures, avec comme reference la key et le finger (right index raw for ex)\n",
    "            \n",
    "# on obtient les valeurs moyennes des mesures tps pour chaque personne et chaque doigt"
   ]
  },
  {
   "cell_type": "code",
   "execution_count": 84,
   "metadata": {},
   "outputs": [],
   "source": [
    "average_tps = {}\n",
    "#print(average_tps_per_run.items())\n",
    "for subject, fingers in average_tps_per_run.items():          #on donne a subject la premiere valeur de la tructure (item) et a fingers la deuxieme (ref et mesures average)\n",
    "    #print(fingers)\n",
    "    average_tps[subject] = {}\n",
    "    for finger, values in fingers.items():                    #On donne a finger la premiere valeur de la structure fingers et le reste dans values (mesures)\n",
    "        average_tps[subject][finger] = {}\n",
    "        average_tps[subject][finger]['mean'] = np.mean(values)   #calcul la valeur moyenne sur plusieurs run par sujet et par doigt\n",
    "        average_tps[subject][finger]['std'] = np.std(values)     # pareil mais std"
   ]
  },
  {
   "cell_type": "code",
   "execution_count": 88,
   "metadata": {},
   "outputs": [
    {
     "data": {
      "application/vnd.plotly.v1+json": {
       "config": {
        "plotlyServerURL": "https://plot.ly"
       },
       "data": [
        {
         "error_y": {
          "array": [
           87.5536373558416,
           50.466130113031795,
           382.11779861015384,
           51.302708996955516,
           229.15386741182192,
           3.0226218754987713
          ],
          "type": "data"
         },
         "name": "15",
         "type": "bar",
         "x": [
          "right_index_raw",
          "right_middle_raw",
          "right_thumb_raw",
          "left_index_raw",
          "left_middle_raw",
          "left_thumb_raw"
         ],
         "y": [
          9201.127105529547,
          11326.930734515172,
          13122.453438748562,
          11848.442506736395,
          11651.650595549834,
          13363.878776101894
         ]
        },
        {
         "error_y": {
          "array": [
           0,
           0,
           0,
           0,
           0,
           0
          ],
          "type": "data"
         },
         "name": "16",
         "type": "bar",
         "x": [
          "right_index_raw",
          "right_middle_raw",
          "right_thumb_raw",
          "left_index_raw",
          "left_middle_raw",
          "left_thumb_raw"
         ],
         "y": [
          11798.11916854778,
          15565.157872460497,
          12617.522620391272,
          12727.61423062453,
          17266.666290443944,
          12563.86028028593
         ]
        },
        {
         "error_y": {
          "array": [
           0,
           0,
           0,
           0,
           0,
           0
          ],
          "type": "data"
         },
         "name": "17",
         "type": "bar",
         "x": [
          "right_index_raw",
          "right_middle_raw",
          "right_thumb_raw",
          "left_index_raw",
          "left_middle_raw",
          "left_thumb_raw"
         ],
         "y": [
          11945.522858796296,
          12053.407214506173,
          17591.764756944445,
          12488.338252314816,
          13580.986352237655,
          16360.077498070988
         ]
        },
        {
         "error_y": {
          "array": [
           0,
           0,
           0,
           0,
           0,
           0
          ],
          "type": "data"
         },
         "name": "18",
         "type": "bar",
         "x": [
          "right_index_raw",
          "right_middle_raw",
          "right_thumb_raw",
          "left_index_raw",
          "left_middle_raw",
          "left_thumb_raw"
         ],
         "y": [
          11636.010847719659,
          11681.742824014429,
          14937.576191703169,
          13047.955217727389,
          11494.261066735378,
          15732.75496006184
         ]
        },
        {
         "error_y": {
          "array": [
           0,
           0,
           0,
           0,
           0,
           0
          ],
          "type": "data"
         },
         "name": "19",
         "type": "bar",
         "x": [
          "right_index_raw",
          "right_middle_raw",
          "right_thumb_raw",
          "left_index_raw",
          "left_middle_raw",
          "left_thumb_raw"
         ],
         "y": [
          12130.146412443552,
          12118.906071249372,
          17517.73416959358,
          12927.39503261415,
          12730.657601605619,
          16173.305619668841
         ]
        },
        {
         "error_y": {
          "array": [
           0,
           0,
           0,
           0,
           0,
           0
          ],
          "type": "data"
         },
         "name": "20",
         "type": "bar",
         "x": [
          "right_index_raw",
          "right_middle_raw",
          "right_thumb_raw",
          "left_index_raw",
          "left_middle_raw",
          "left_thumb_raw"
         ],
         "y": [
          10091.016490354697,
          11963.69949180668,
          15163.378292885294,
          12399.990562124041,
          13372.585303878863,
          16055.031425015557
         ]
        },
        {
         "error_y": {
          "array": [
           0,
           0,
           0,
           0,
           0,
           0
          ],
          "type": "data"
         },
         "name": "21",
         "type": "bar",
         "x": [
          "right_index_raw",
          "right_middle_raw",
          "right_thumb_raw",
          "left_index_raw",
          "left_middle_raw",
          "left_thumb_raw"
         ],
         "y": [
          11329.354920825066,
          12390.30191292629,
          13956.298057125745,
          12458.345150301351,
          13471.565267847116,
          14212.67356717703
         ]
        },
        {
         "error_y": {
          "array": [
           164.37877871082128,
           88.75031718952323,
           1294.3654392571661,
           31.409850874188123,
           135.91839596628415,
           283.3979851274653
          ],
          "type": "data"
         },
         "name": "23",
         "type": "bar",
         "x": [
          "right_index_raw",
          "right_middle_raw",
          "right_thumb_raw",
          "left_index_raw",
          "left_middle_raw",
          "left_thumb_raw"
         ],
         "y": [
          10618.209888751755,
          11679.2717234019,
          16594.710876290635,
          12525.607389674813,
          13264.362605719245,
          16273.018244104414
         ]
        }
       ],
       "layout": {
        "autosize": true,
        "barmode": "group",
        "template": {
         "data": {
          "bar": [
           {
            "error_x": {
             "color": "#2a3f5f"
            },
            "error_y": {
             "color": "#2a3f5f"
            },
            "marker": {
             "line": {
              "color": "#E5ECF6",
              "width": 0.5
             },
             "pattern": {
              "fillmode": "overlay",
              "size": 10,
              "solidity": 0.2
             }
            },
            "type": "bar"
           }
          ],
          "barpolar": [
           {
            "marker": {
             "line": {
              "color": "#E5ECF6",
              "width": 0.5
             },
             "pattern": {
              "fillmode": "overlay",
              "size": 10,
              "solidity": 0.2
             }
            },
            "type": "barpolar"
           }
          ],
          "carpet": [
           {
            "aaxis": {
             "endlinecolor": "#2a3f5f",
             "gridcolor": "white",
             "linecolor": "white",
             "minorgridcolor": "white",
             "startlinecolor": "#2a3f5f"
            },
            "baxis": {
             "endlinecolor": "#2a3f5f",
             "gridcolor": "white",
             "linecolor": "white",
             "minorgridcolor": "white",
             "startlinecolor": "#2a3f5f"
            },
            "type": "carpet"
           }
          ],
          "choropleth": [
           {
            "colorbar": {
             "outlinewidth": 0,
             "ticks": ""
            },
            "type": "choropleth"
           }
          ],
          "contour": [
           {
            "colorbar": {
             "outlinewidth": 0,
             "ticks": ""
            },
            "colorscale": [
             [
              0,
              "#0d0887"
             ],
             [
              0.1111111111111111,
              "#46039f"
             ],
             [
              0.2222222222222222,
              "#7201a8"
             ],
             [
              0.3333333333333333,
              "#9c179e"
             ],
             [
              0.4444444444444444,
              "#bd3786"
             ],
             [
              0.5555555555555556,
              "#d8576b"
             ],
             [
              0.6666666666666666,
              "#ed7953"
             ],
             [
              0.7777777777777778,
              "#fb9f3a"
             ],
             [
              0.8888888888888888,
              "#fdca26"
             ],
             [
              1,
              "#f0f921"
             ]
            ],
            "type": "contour"
           }
          ],
          "contourcarpet": [
           {
            "colorbar": {
             "outlinewidth": 0,
             "ticks": ""
            },
            "type": "contourcarpet"
           }
          ],
          "heatmap": [
           {
            "colorbar": {
             "outlinewidth": 0,
             "ticks": ""
            },
            "colorscale": [
             [
              0,
              "#0d0887"
             ],
             [
              0.1111111111111111,
              "#46039f"
             ],
             [
              0.2222222222222222,
              "#7201a8"
             ],
             [
              0.3333333333333333,
              "#9c179e"
             ],
             [
              0.4444444444444444,
              "#bd3786"
             ],
             [
              0.5555555555555556,
              "#d8576b"
             ],
             [
              0.6666666666666666,
              "#ed7953"
             ],
             [
              0.7777777777777778,
              "#fb9f3a"
             ],
             [
              0.8888888888888888,
              "#fdca26"
             ],
             [
              1,
              "#f0f921"
             ]
            ],
            "type": "heatmap"
           }
          ],
          "heatmapgl": [
           {
            "colorbar": {
             "outlinewidth": 0,
             "ticks": ""
            },
            "colorscale": [
             [
              0,
              "#0d0887"
             ],
             [
              0.1111111111111111,
              "#46039f"
             ],
             [
              0.2222222222222222,
              "#7201a8"
             ],
             [
              0.3333333333333333,
              "#9c179e"
             ],
             [
              0.4444444444444444,
              "#bd3786"
             ],
             [
              0.5555555555555556,
              "#d8576b"
             ],
             [
              0.6666666666666666,
              "#ed7953"
             ],
             [
              0.7777777777777778,
              "#fb9f3a"
             ],
             [
              0.8888888888888888,
              "#fdca26"
             ],
             [
              1,
              "#f0f921"
             ]
            ],
            "type": "heatmapgl"
           }
          ],
          "histogram": [
           {
            "marker": {
             "pattern": {
              "fillmode": "overlay",
              "size": 10,
              "solidity": 0.2
             }
            },
            "type": "histogram"
           }
          ],
          "histogram2d": [
           {
            "colorbar": {
             "outlinewidth": 0,
             "ticks": ""
            },
            "colorscale": [
             [
              0,
              "#0d0887"
             ],
             [
              0.1111111111111111,
              "#46039f"
             ],
             [
              0.2222222222222222,
              "#7201a8"
             ],
             [
              0.3333333333333333,
              "#9c179e"
             ],
             [
              0.4444444444444444,
              "#bd3786"
             ],
             [
              0.5555555555555556,
              "#d8576b"
             ],
             [
              0.6666666666666666,
              "#ed7953"
             ],
             [
              0.7777777777777778,
              "#fb9f3a"
             ],
             [
              0.8888888888888888,
              "#fdca26"
             ],
             [
              1,
              "#f0f921"
             ]
            ],
            "type": "histogram2d"
           }
          ],
          "histogram2dcontour": [
           {
            "colorbar": {
             "outlinewidth": 0,
             "ticks": ""
            },
            "colorscale": [
             [
              0,
              "#0d0887"
             ],
             [
              0.1111111111111111,
              "#46039f"
             ],
             [
              0.2222222222222222,
              "#7201a8"
             ],
             [
              0.3333333333333333,
              "#9c179e"
             ],
             [
              0.4444444444444444,
              "#bd3786"
             ],
             [
              0.5555555555555556,
              "#d8576b"
             ],
             [
              0.6666666666666666,
              "#ed7953"
             ],
             [
              0.7777777777777778,
              "#fb9f3a"
             ],
             [
              0.8888888888888888,
              "#fdca26"
             ],
             [
              1,
              "#f0f921"
             ]
            ],
            "type": "histogram2dcontour"
           }
          ],
          "mesh3d": [
           {
            "colorbar": {
             "outlinewidth": 0,
             "ticks": ""
            },
            "type": "mesh3d"
           }
          ],
          "parcoords": [
           {
            "line": {
             "colorbar": {
              "outlinewidth": 0,
              "ticks": ""
             }
            },
            "type": "parcoords"
           }
          ],
          "pie": [
           {
            "automargin": true,
            "type": "pie"
           }
          ],
          "scatter": [
           {
            "marker": {
             "colorbar": {
              "outlinewidth": 0,
              "ticks": ""
             }
            },
            "type": "scatter"
           }
          ],
          "scatter3d": [
           {
            "line": {
             "colorbar": {
              "outlinewidth": 0,
              "ticks": ""
             }
            },
            "marker": {
             "colorbar": {
              "outlinewidth": 0,
              "ticks": ""
             }
            },
            "type": "scatter3d"
           }
          ],
          "scattercarpet": [
           {
            "marker": {
             "colorbar": {
              "outlinewidth": 0,
              "ticks": ""
             }
            },
            "type": "scattercarpet"
           }
          ],
          "scattergeo": [
           {
            "marker": {
             "colorbar": {
              "outlinewidth": 0,
              "ticks": ""
             }
            },
            "type": "scattergeo"
           }
          ],
          "scattergl": [
           {
            "marker": {
             "colorbar": {
              "outlinewidth": 0,
              "ticks": ""
             }
            },
            "type": "scattergl"
           }
          ],
          "scattermapbox": [
           {
            "marker": {
             "colorbar": {
              "outlinewidth": 0,
              "ticks": ""
             }
            },
            "type": "scattermapbox"
           }
          ],
          "scatterpolar": [
           {
            "marker": {
             "colorbar": {
              "outlinewidth": 0,
              "ticks": ""
             }
            },
            "type": "scatterpolar"
           }
          ],
          "scatterpolargl": [
           {
            "marker": {
             "colorbar": {
              "outlinewidth": 0,
              "ticks": ""
             }
            },
            "type": "scatterpolargl"
           }
          ],
          "scatterternary": [
           {
            "marker": {
             "colorbar": {
              "outlinewidth": 0,
              "ticks": ""
             }
            },
            "type": "scatterternary"
           }
          ],
          "surface": [
           {
            "colorbar": {
             "outlinewidth": 0,
             "ticks": ""
            },
            "colorscale": [
             [
              0,
              "#0d0887"
             ],
             [
              0.1111111111111111,
              "#46039f"
             ],
             [
              0.2222222222222222,
              "#7201a8"
             ],
             [
              0.3333333333333333,
              "#9c179e"
             ],
             [
              0.4444444444444444,
              "#bd3786"
             ],
             [
              0.5555555555555556,
              "#d8576b"
             ],
             [
              0.6666666666666666,
              "#ed7953"
             ],
             [
              0.7777777777777778,
              "#fb9f3a"
             ],
             [
              0.8888888888888888,
              "#fdca26"
             ],
             [
              1,
              "#f0f921"
             ]
            ],
            "type": "surface"
           }
          ],
          "table": [
           {
            "cells": {
             "fill": {
              "color": "#EBF0F8"
             },
             "line": {
              "color": "white"
             }
            },
            "header": {
             "fill": {
              "color": "#C8D4E3"
             },
             "line": {
              "color": "white"
             }
            },
            "type": "table"
           }
          ]
         },
         "layout": {
          "annotationdefaults": {
           "arrowcolor": "#2a3f5f",
           "arrowhead": 0,
           "arrowwidth": 1
          },
          "autotypenumbers": "strict",
          "coloraxis": {
           "colorbar": {
            "outlinewidth": 0,
            "ticks": ""
           }
          },
          "colorscale": {
           "diverging": [
            [
             0,
             "#8e0152"
            ],
            [
             0.1,
             "#c51b7d"
            ],
            [
             0.2,
             "#de77ae"
            ],
            [
             0.3,
             "#f1b6da"
            ],
            [
             0.4,
             "#fde0ef"
            ],
            [
             0.5,
             "#f7f7f7"
            ],
            [
             0.6,
             "#e6f5d0"
            ],
            [
             0.7,
             "#b8e186"
            ],
            [
             0.8,
             "#7fbc41"
            ],
            [
             0.9,
             "#4d9221"
            ],
            [
             1,
             "#276419"
            ]
           ],
           "sequential": [
            [
             0,
             "#0d0887"
            ],
            [
             0.1111111111111111,
             "#46039f"
            ],
            [
             0.2222222222222222,
             "#7201a8"
            ],
            [
             0.3333333333333333,
             "#9c179e"
            ],
            [
             0.4444444444444444,
             "#bd3786"
            ],
            [
             0.5555555555555556,
             "#d8576b"
            ],
            [
             0.6666666666666666,
             "#ed7953"
            ],
            [
             0.7777777777777778,
             "#fb9f3a"
            ],
            [
             0.8888888888888888,
             "#fdca26"
            ],
            [
             1,
             "#f0f921"
            ]
           ],
           "sequentialminus": [
            [
             0,
             "#0d0887"
            ],
            [
             0.1111111111111111,
             "#46039f"
            ],
            [
             0.2222222222222222,
             "#7201a8"
            ],
            [
             0.3333333333333333,
             "#9c179e"
            ],
            [
             0.4444444444444444,
             "#bd3786"
            ],
            [
             0.5555555555555556,
             "#d8576b"
            ],
            [
             0.6666666666666666,
             "#ed7953"
            ],
            [
             0.7777777777777778,
             "#fb9f3a"
            ],
            [
             0.8888888888888888,
             "#fdca26"
            ],
            [
             1,
             "#f0f921"
            ]
           ]
          },
          "colorway": [
           "#636efa",
           "#EF553B",
           "#00cc96",
           "#ab63fa",
           "#FFA15A",
           "#19d3f3",
           "#FF6692",
           "#B6E880",
           "#FF97FF",
           "#FECB52"
          ],
          "font": {
           "color": "#2a3f5f"
          },
          "geo": {
           "bgcolor": "white",
           "lakecolor": "white",
           "landcolor": "#E5ECF6",
           "showlakes": true,
           "showland": true,
           "subunitcolor": "white"
          },
          "hoverlabel": {
           "align": "left"
          },
          "hovermode": "closest",
          "mapbox": {
           "style": "light"
          },
          "paper_bgcolor": "white",
          "plot_bgcolor": "#E5ECF6",
          "polar": {
           "angularaxis": {
            "gridcolor": "white",
            "linecolor": "white",
            "ticks": ""
           },
           "bgcolor": "#E5ECF6",
           "radialaxis": {
            "gridcolor": "white",
            "linecolor": "white",
            "ticks": ""
           }
          },
          "scene": {
           "xaxis": {
            "backgroundcolor": "#E5ECF6",
            "gridcolor": "white",
            "gridwidth": 2,
            "linecolor": "white",
            "showbackground": true,
            "ticks": "",
            "zerolinecolor": "white"
           },
           "yaxis": {
            "backgroundcolor": "#E5ECF6",
            "gridcolor": "white",
            "gridwidth": 2,
            "linecolor": "white",
            "showbackground": true,
            "ticks": "",
            "zerolinecolor": "white"
           },
           "zaxis": {
            "backgroundcolor": "#E5ECF6",
            "gridcolor": "white",
            "gridwidth": 2,
            "linecolor": "white",
            "showbackground": true,
            "ticks": "",
            "zerolinecolor": "white"
           }
          },
          "shapedefaults": {
           "line": {
            "color": "#2a3f5f"
           }
          },
          "ternary": {
           "aaxis": {
            "gridcolor": "white",
            "linecolor": "white",
            "ticks": ""
           },
           "baxis": {
            "gridcolor": "white",
            "linecolor": "white",
            "ticks": ""
           },
           "bgcolor": "#E5ECF6",
           "caxis": {
            "gridcolor": "white",
            "linecolor": "white",
            "ticks": ""
           }
          },
          "title": {
           "x": 0.05
          },
          "xaxis": {
           "automargin": true,
           "gridcolor": "white",
           "linecolor": "white",
           "ticks": "",
           "title": {
            "standoff": 15
           },
           "zerolinecolor": "white",
           "zerolinewidth": 2
          },
          "yaxis": {
           "automargin": true,
           "gridcolor": "white",
           "linecolor": "white",
           "ticks": "",
           "title": {
            "standoff": 15
           },
           "zerolinecolor": "white",
           "zerolinewidth": 2
          }
         }
        },
        "xaxis": {
         "autorange": true,
         "range": [
          -0.5,
          5.5
         ],
         "type": "category"
        },
        "yaxis": {
         "autorange": true,
         "range": [
          0,
          18830.606647945053
         ],
         "type": "linear"
        }
       }
      },
      "image/png": "[encoded data removed]",
      "text/html": [
       "<div>                            <div id=\"7d9580b6-1c79-4932-9cc1-23908b81e4c9\" class=\"plotly-graph-div\" style=\"height:525px; width:100%;\"></div>            <script type=\"text/javascript\">                require([\"plotly\"], function(Plotly) {                    window.PLOTLYENV=window.PLOTLYENV || {};                                    if (document.getElementById(\"7d9580b6-1c79-4932-9cc1-23908b81e4c9\")) {                    Plotly.newPlot(                        \"7d9580b6-1c79-4932-9cc1-23908b81e4c9\",                        [{\"error_y\":{\"array\":[87.5536373558416,50.466130113031795,382.11779861015384,51.302708996955516,229.15386741182192,3.0226218754987713],\"type\":\"data\"},\"name\":\"15\",\"x\":[\"right_index_raw\",\"right_middle_raw\",\"right_thumb_raw\",\"left_index_raw\",\"left_middle_raw\",\"left_thumb_raw\"],\"y\":[9201.127105529547,11326.930734515172,13122.453438748562,11848.442506736395,11651.650595549834,13363.878776101894],\"type\":\"bar\"},{\"error_y\":{\"array\":[0.0,0.0,0.0,0.0,0.0,0.0],\"type\":\"data\"},\"name\":\"16\",\"x\":[\"right_index_raw\",\"right_middle_raw\",\"right_thumb_raw\",\"left_index_raw\",\"left_middle_raw\",\"left_thumb_raw\"],\"y\":[11798.11916854778,15565.157872460497,12617.522620391272,12727.61423062453,17266.666290443944,12563.86028028593],\"type\":\"bar\"},{\"error_y\":{\"array\":[0.0,0.0,0.0,0.0,0.0,0.0],\"type\":\"data\"},\"name\":\"17\",\"x\":[\"right_index_raw\",\"right_middle_raw\",\"right_thumb_raw\",\"left_index_raw\",\"left_middle_raw\",\"left_thumb_raw\"],\"y\":[11945.522858796296,12053.407214506173,17591.764756944445,12488.338252314816,13580.986352237655,16360.077498070988],\"type\":\"bar\"},{\"error_y\":{\"array\":[0.0,0.0,0.0,0.0,0.0,0.0],\"type\":\"data\"},\"name\":\"18\",\"x\":[\"right_index_raw\",\"right_middle_raw\",\"right_thumb_raw\",\"left_index_raw\",\"left_middle_raw\",\"left_thumb_raw\"],\"y\":[11636.010847719659,11681.742824014429,14937.576191703169,13047.955217727389,11494.261066735378,15732.75496006184],\"type\":\"bar\"},{\"error_y\":{\"array\":[0.0,0.0,0.0,0.0,0.0,0.0],\"type\":\"data\"},\"name\":\"19\",\"x\":[\"right_index_raw\",\"right_middle_raw\",\"right_thumb_raw\",\"left_index_raw\",\"left_middle_raw\",\"left_thumb_raw\"],\"y\":[12130.146412443552,12118.906071249372,17517.73416959358,12927.39503261415,12730.657601605619,16173.305619668841],\"type\":\"bar\"},{\"error_y\":{\"array\":[0.0,0.0,0.0,0.0,0.0,0.0],\"type\":\"data\"},\"name\":\"20\",\"x\":[\"right_index_raw\",\"right_middle_raw\",\"right_thumb_raw\",\"left_index_raw\",\"left_middle_raw\",\"left_thumb_raw\"],\"y\":[10091.016490354697,11963.69949180668,15163.378292885294,12399.990562124041,13372.585303878863,16055.031425015557],\"type\":\"bar\"},{\"error_y\":{\"array\":[0.0,0.0,0.0,0.0,0.0,0.0],\"type\":\"data\"},\"name\":\"21\",\"x\":[\"right_index_raw\",\"right_middle_raw\",\"right_thumb_raw\",\"left_index_raw\",\"left_middle_raw\",\"left_thumb_raw\"],\"y\":[11329.354920825066,12390.30191292629,13956.298057125745,12458.345150301351,13471.565267847116,14212.67356717703],\"type\":\"bar\"},{\"error_y\":{\"array\":[164.37877871082128,88.75031718952323,1294.3654392571661,31.409850874188123,135.91839596628415,283.3979851274653],\"type\":\"data\"},\"name\":\"23\",\"x\":[\"right_index_raw\",\"right_middle_raw\",\"right_thumb_raw\",\"left_index_raw\",\"left_middle_raw\",\"left_thumb_raw\"],\"y\":[10618.209888751755,11679.2717234019,16594.710876290635,12525.607389674813,13264.362605719245,16273.018244104414],\"type\":\"bar\"}],                        {\"template\":{\"data\":{\"bar\":[{\"error_x\":{\"color\":\"#2a3f5f\"},\"error_y\":{\"color\":\"#2a3f5f\"},\"marker\":{\"line\":{\"color\":\"#E5ECF6\",\"width\":0.5},\"pattern\":{\"fillmode\":\"overlay\",\"size\":10,\"solidity\":0.2}},\"type\":\"bar\"}],\"barpolar\":[{\"marker\":{\"line\":{\"color\":\"#E5ECF6\",\"width\":0.5},\"pattern\":{\"fillmode\":\"overlay\",\"size\":10,\"solidity\":0.2}},\"type\":\"barpolar\"}],\"carpet\":[{\"aaxis\":{\"endlinecolor\":\"#2a3f5f\",\"gridcolor\":\"white\",\"linecolor\":\"white\",\"minorgridcolor\":\"white\",\"startlinecolor\":\"#2a3f5f\"},\"baxis\":{\"endlinecolor\":\"#2a3f5f\",\"gridcolor\":\"white\",\"linecolor\":\"white\",\"minorgridcolor\":\"white\",\"startlinecolor\":\"#2a3f5f\"},\"type\":\"carpet\"}],\"choropleth\":[{\"colorbar\":{\"outlinewidth\":0,\"ticks\":\"\"},\"type\":\"choropleth\"}],\"contour\":[{\"colorbar\":{\"outlinewidth\":0,\"ticks\":\"\"},\"colorscale\":[[0.0,\"#0d0887\"],[0.1111111111111111,\"#46039f\"],[0.2222222222222222,\"#7201a8\"],[0.3333333333333333,\"#9c179e\"],[0.4444444444444444,\"#bd3786\"],[0.5555555555555556,\"#d8576b\"],[0.6666666666666666,\"#ed7953\"],[0.7777777777777778,\"#fb9f3a\"],[0.8888888888888888,\"#fdca26\"],[1.0,\"#f0f921\"]],\"type\":\"contour\"}],\"contourcarpet\":[{\"colorbar\":{\"outlinewidth\":0,\"ticks\":\"\"},\"type\":\"contourcarpet\"}],\"heatmap\":[{\"colorbar\":{\"outlinewidth\":0,\"ticks\":\"\"},\"colorscale\":[[0.0,\"#0d0887\"],[0.1111111111111111,\"#46039f\"],[0.2222222222222222,\"#7201a8\"],[0.3333333333333333,\"#9c179e\"],[0.4444444444444444,\"#bd3786\"],[0.5555555555555556,\"#d8576b\"],[0.6666666666666666,\"#ed7953\"],[0.7777777777777778,\"#fb9f3a\"],[0.8888888888888888,\"#fdca26\"],[1.0,\"#f0f921\"]],\"type\":\"heatmap\"}],\"heatmapgl\":[{\"colorbar\":{\"outlinewidth\":0,\"ticks\":\"\"},\"colorscale\":[[0.0,\"#0d0887\"],[0.1111111111111111,\"#46039f\"],[0.2222222222222222,\"#7201a8\"],[0.3333333333333333,\"#9c179e\"],[0.4444444444444444,\"#bd3786\"],[0.5555555555555556,\"#d8576b\"],[0.6666666666666666,\"#ed7953\"],[0.7777777777777778,\"#fb9f3a\"],[0.8888888888888888,\"#fdca26\"],[1.0,\"#f0f921\"]],\"type\":\"heatmapgl\"}],\"histogram\":[{\"marker\":{\"pattern\":{\"fillmode\":\"overlay\",\"size\":10,\"solidity\":0.2}},\"type\":\"histogram\"}],\"histogram2d\":[{\"colorbar\":{\"outlinewidth\":0,\"ticks\":\"\"},\"colorscale\":[[0.0,\"#0d0887\"],[0.1111111111111111,\"#46039f\"],[0.2222222222222222,\"#7201a8\"],[0.3333333333333333,\"#9c179e\"],[0.4444444444444444,\"#bd3786\"],[0.5555555555555556,\"#d8576b\"],[0.6666666666666666,\"#ed7953\"],[0.7777777777777778,\"#fb9f3a\"],[0.8888888888888888,\"#fdca26\"],[1.0,\"#f0f921\"]],\"type\":\"histogram2d\"}],\"histogram2dcontour\":[{\"colorbar\":{\"outlinewidth\":0,\"ticks\":\"\"},\"colorscale\":[[0.0,\"#0d0887\"],[0.1111111111111111,\"#46039f\"],[0.2222222222222222,\"#7201a8\"],[0.3333333333333333,\"#9c179e\"],[0.4444444444444444,\"#bd3786\"],[0.5555555555555556,\"#d8576b\"],[0.6666666666666666,\"#ed7953\"],[0.7777777777777778,\"#fb9f3a\"],[0.8888888888888888,\"#fdca26\"],[1.0,\"#f0f921\"]],\"type\":\"histogram2dcontour\"}],\"mesh3d\":[{\"colorbar\":{\"outlinewidth\":0,\"ticks\":\"\"},\"type\":\"mesh3d\"}],\"parcoords\":[{\"line\":{\"colorbar\":{\"outlinewidth\":0,\"ticks\":\"\"}},\"type\":\"parcoords\"}],\"pie\":[{\"automargin\":true,\"type\":\"pie\"}],\"scatter\":[{\"marker\":{\"colorbar\":{\"outlinewidth\":0,\"ticks\":\"\"}},\"type\":\"scatter\"}],\"scatter3d\":[{\"line\":{\"colorbar\":{\"outlinewidth\":0,\"ticks\":\"\"}},\"marker\":{\"colorbar\":{\"outlinewidth\":0,\"ticks\":\"\"}},\"type\":\"scatter3d\"}],\"scattercarpet\":[{\"marker\":{\"colorbar\":{\"outlinewidth\":0,\"ticks\":\"\"}},\"type\":\"scattercarpet\"}],\"scattergeo\":[{\"marker\":{\"colorbar\":{\"outlinewidth\":0,\"ticks\":\"\"}},\"type\":\"scattergeo\"}],\"scattergl\":[{\"marker\":{\"colorbar\":{\"outlinewidth\":0,\"ticks\":\"\"}},\"type\":\"scattergl\"}],\"scattermapbox\":[{\"marker\":{\"colorbar\":{\"outlinewidth\":0,\"ticks\":\"\"}},\"type\":\"scattermapbox\"}],\"scatterpolar\":[{\"marker\":{\"colorbar\":{\"outlinewidth\":0,\"ticks\":\"\"}},\"type\":\"scatterpolar\"}],\"scatterpolargl\":[{\"marker\":{\"colorbar\":{\"outlinewidth\":0,\"ticks\":\"\"}},\"type\":\"scatterpolargl\"}],\"scatterternary\":[{\"marker\":{\"colorbar\":{\"outlinewidth\":0,\"ticks\":\"\"}},\"type\":\"scatterternary\"}],\"surface\":[{\"colorbar\":{\"outlinewidth\":0,\"ticks\":\"\"},\"colorscale\":[[0.0,\"#0d0887\"],[0.1111111111111111,\"#46039f\"],[0.2222222222222222,\"#7201a8\"],[0.3333333333333333,\"#9c179e\"],[0.4444444444444444,\"#bd3786\"],[0.5555555555555556,\"#d8576b\"],[0.6666666666666666,\"#ed7953\"],[0.7777777777777778,\"#fb9f3a\"],[0.8888888888888888,\"#fdca26\"],[1.0,\"#f0f921\"]],\"type\":\"surface\"}],\"table\":[{\"cells\":{\"fill\":{\"color\":\"#EBF0F8\"},\"line\":{\"color\":\"white\"}},\"header\":{\"fill\":{\"color\":\"#C8D4E3\"},\"line\":{\"color\":\"white\"}},\"type\":\"table\"}]},\"layout\":{\"annotationdefaults\":{\"arrowcolor\":\"#2a3f5f\",\"arrowhead\":0,\"arrowwidth\":1},\"autotypenumbers\":\"strict\",\"coloraxis\":{\"colorbar\":{\"outlinewidth\":0,\"ticks\":\"\"}},\"colorscale\":{\"diverging\":[[0,\"#8e0152\"],[0.1,\"#c51b7d\"],[0.2,\"#de77ae\"],[0.3,\"#f1b6da\"],[0.4,\"#fde0ef\"],[0.5,\"#f7f7f7\"],[0.6,\"#e6f5d0\"],[0.7,\"#b8e186\"],[0.8,\"#7fbc41\"],[0.9,\"#4d9221\"],[1,\"#276419\"]],\"sequential\":[[0.0,\"#0d0887\"],[0.1111111111111111,\"#46039f\"],[0.2222222222222222,\"#7201a8\"],[0.3333333333333333,\"#9c179e\"],[0.4444444444444444,\"#bd3786\"],[0.5555555555555556,\"#d8576b\"],[0.6666666666666666,\"#ed7953\"],[0.7777777777777778,\"#fb9f3a\"],[0.8888888888888888,\"#fdca26\"],[1.0,\"#f0f921\"]],\"sequentialminus\":[[0.0,\"#0d0887\"],[0.1111111111111111,\"#46039f\"],[0.2222222222222222,\"#7201a8\"],[0.3333333333333333,\"#9c179e\"],[0.4444444444444444,\"#bd3786\"],[0.5555555555555556,\"#d8576b\"],[0.6666666666666666,\"#ed7953\"],[0.7777777777777778,\"#fb9f3a\"],[0.8888888888888888,\"#fdca26\"],[1.0,\"#f0f921\"]]},\"colorway\":[\"#636efa\",\"#EF553B\",\"#00cc96\",\"#ab63fa\",\"#FFA15A\",\"#19d3f3\",\"#FF6692\",\"#B6E880\",\"#FF97FF\",\"#FECB52\"],\"font\":{\"color\":\"#2a3f5f\"},\"geo\":{\"bgcolor\":\"white\",\"lakecolor\":\"white\",\"landcolor\":\"#E5ECF6\",\"showlakes\":true,\"showland\":true,\"subunitcolor\":\"white\"},\"hoverlabel\":{\"align\":\"left\"},\"hovermode\":\"closest\",\"mapbox\":{\"style\":\"light\"},\"paper_bgcolor\":\"white\",\"plot_bgcolor\":\"#E5ECF6\",\"polar\":{\"angularaxis\":{\"gridcolor\":\"white\",\"linecolor\":\"white\",\"ticks\":\"\"},\"bgcolor\":\"#E5ECF6\",\"radialaxis\":{\"gridcolor\":\"white\",\"linecolor\":\"white\",\"ticks\":\"\"}},\"scene\":{\"xaxis\":{\"backgroundcolor\":\"#E5ECF6\",\"gridcolor\":\"white\",\"gridwidth\":2,\"linecolor\":\"white\",\"showbackground\":true,\"ticks\":\"\",\"zerolinecolor\":\"white\"},\"yaxis\":{\"backgroundcolor\":\"#E5ECF6\",\"gridcolor\":\"white\",\"gridwidth\":2,\"linecolor\":\"white\",\"showbackground\":true,\"ticks\":\"\",\"zerolinecolor\":\"white\"},\"zaxis\":{\"backgroundcolor\":\"#E5ECF6\",\"gridcolor\":\"white\",\"gridwidth\":2,\"linecolor\":\"white\",\"showbackground\":true,\"ticks\":\"\",\"zerolinecolor\":\"white\"}},\"shapedefaults\":{\"line\":{\"color\":\"#2a3f5f\"}},\"ternary\":{\"aaxis\":{\"gridcolor\":\"white\",\"linecolor\":\"white\",\"ticks\":\"\"},\"baxis\":{\"gridcolor\":\"white\",\"linecolor\":\"white\",\"ticks\":\"\"},\"bgcolor\":\"#E5ECF6\",\"caxis\":{\"gridcolor\":\"white\",\"linecolor\":\"white\",\"ticks\":\"\"}},\"title\":{\"x\":0.05},\"xaxis\":{\"automargin\":true,\"gridcolor\":\"white\",\"linecolor\":\"white\",\"ticks\":\"\",\"title\":{\"standoff\":15},\"zerolinecolor\":\"white\",\"zerolinewidth\":2},\"yaxis\":{\"automargin\":true,\"gridcolor\":\"white\",\"linecolor\":\"white\",\"ticks\":\"\",\"title\":{\"standoff\":15},\"zerolinecolor\":\"white\",\"zerolinewidth\":2}}},\"barmode\":\"group\"},                        {\"responsive\": true}                    ).then(function(){\n",
       "                            \n",
       "var gd = document.getElementById('7d9580b6-1c79-4932-9cc1-23908b81e4c9');\n",
       "var x = new MutationObserver(function (mutations, observer) {{\n",
       "        var display = window.getComputedStyle(gd).display;\n",
       "        if (!display || display === 'none') {{\n",
       "            console.log([gd, 'removed!']);\n",
       "            Plotly.purge(gd);\n",
       "            observer.disconnect();\n",
       "        }}\n",
       "}});\n",
       "\n",
       "// Listen for the removal of the full notebook cells\n",
       "var notebookContainer = gd.closest('#notebook-container');\n",
       "if (notebookContainer) {{\n",
       "    x.observe(notebookContainer, {childList: true});\n",
       "}}\n",
       "\n",
       "// Listen for the clearing of the current output cell\n",
       "var outputEl = gd.closest('.output');\n",
       "if (outputEl) {{\n",
       "    x.observe(outputEl, {childList: true});\n",
       "}}\n",
       "\n",
       "                        })                };                });            </script>        </div>"
      ]
     },
     "metadata": {},
     "output_type": "display_data"
    }
   ],
   "source": [
    "fig = go.Figure()\n",
    "#print(average_tps.items())\n",
    "for subject, fingers in average_tps.items():              # donne 1er item a subject et 2eme item dans fingers ({'ref fingers':{'mean':..... , 'std':....}, 'ref2.......})\n",
    "    finger_names = list(fingers.keys())                   # fait une liste, keys donne le nom devant les : donc les ref fingers              \n",
    "    finger_mean = []                                      # reinitialise variable pour chaque sujet\n",
    "    finger_std = []\n",
    "    for finger in finger_names:                           # variable finger prend les noms des ref fingers\n",
    "        finger_mean.append(fingers[finger]['mean'])       # on ajoute a la variable finger_mean les valeurs moyennes de chaque doigt pour un sujet: fingers a une valeur de ref finger et mean et std, et on prend pour chaque valeur de doigt (finger) la valeur moyenne 'mean' de la variable fingers (qui a les ref, mean et std)\n",
    "        finger_std.append(fingers[finger]['std'])         # pareil pour std\n",
    "    fig.add_trace(go.Bar(\n",
    "        name=subject,\n",
    "        x=finger_names,\n",
    "        y=finger_mean,\n",
    "        error_y=dict(type='data', array=finger_std)       #on trace pour les subject 6 bars (une pour chaque doigt) avec l-erreur std\n",
    "    ))\n",
    "fig.update_layout(barmode='group')"
   ]
  },
  {
   "cell_type": "markdown",
   "metadata": {},
   "source": [
    "### group per specialty"
   ]
  },
  {
   "cell_type": "code",
   "execution_count": 99,
   "metadata": {},
   "outputs": [],
   "source": [
    "specialty_tps = {}\n",
    "#print(tps_forces.items())\n",
    "\n",
    "for s in specialty_keys:     #take values neuro or plastic\n",
    "    specialty_tps[s] = {}    # declaration structure\n",
    "\n",
    "for l in ['right', 'left']:  \n",
    "    for f in ['index', 'middle', 'thumb']:\n",
    "        key = l + '_' + f\n",
    "        for s in specialty_keys:\n",
    "            specialty_tps[s][key] = []   #structure avec 1ere dimension specialty, 2eme dimension indicateur right/left et doigt = toutes les combinaisons pour neuro et plastic\n",
    "            \n",
    "for key, value in tps_forces.items():    # 1ere dimension associee a key, 2eme dimension dans value (avec tous les fingers et les tables de valeurs dedans)\n",
    "    specialty = subject_data.loc[subject_data[\"subject\"] == int(key)][\"specialty\"].values[0]    #on selectionne la colonne specialty dans subject_data DONT la valeur dans la col subject coresp. a la key  (integer)\n",
    "    #print(specialty)                     # values[0] permet avoir des string ????\n",
    "    for finger, values in value.items():  # dasns chanque value on a finger qui prend la ref du finger et les values qui prennent les mesures\n",
    "        f = finger.replace(\"_raw\", \"\")    # enleve la mention raw des identifiants des doigts\n",
    "        for run in values:                # run prend les valeurs des mesures\n",
    "            specialty_tps[specialty][f] = specialty_tps[specialty][f] + run.tolist()   #on ajoute les data ensemble pour une meme specialite et un doigt = toutes les data des neuro pour le doigt du milieu ensemble\n",
    "\n",
    "            #.tolist(): returns array of scalars"
   ]
  },
  {
   "cell_type": "code",
   "execution_count": null,
   "metadata": {},
   "outputs": [],
   "source": [
    "average_specialty_tps = {}\n",
    "for s in specialty_keys:\n",
    "    average_specialty_tps[s] = {}\n",
    "\n",
    "for l in ['right', 'left']:\n",
    "    for f in ['index', 'middle', 'thumb']:\n",
    "        key = l + '_' + f\n",
    "        for s in specialty_keys:\n",
    "            average_specialty_tps[s][key] = {}\n",
    "        \n",
    "for specialty, data in specialty_tps.items():\n",
    "    for finger, values in data.items():\n",
    "        average_specialty_tps[specialty][finger][\"mean\"] = np.mean(values)\n",
    "        average_specialty_tps[specialty][finger][\"std\"] = np.std(values)"
   ]
  },
  {
   "cell_type": "code",
   "execution_count": null,
   "metadata": {},
   "outputs": [],
   "source": [
    "fig = go.Figure()\n",
    "for specialty, fingers in average_specialty_tps.items():\n",
    "    finger_names = list(fingers.keys())\n",
    "    finger_mean = []\n",
    "    finger_std = []\n",
    "    for finger in finger_names:\n",
    "        finger_mean.append(fingers[finger]['mean'])\n",
    "        finger_std.append(fingers[finger]['std'])\n",
    "    fig.add_trace(go.Bar(\n",
    "        name=specialty,\n",
    "        x=finger_names,\n",
    "        y=finger_mean,\n",
    "        error_y=dict(type='data', array=finger_std)\n",
    "    ))\n",
    "fig.update_layout(barmode='group')\n",
    "fig.write_image(join(data_folder, \"figures\", \"tps_per_speciatly.svg\"))"
   ]
  },
  {
   "cell_type": "markdown",
   "metadata": {},
   "source": [
    "### heatmap per specialty"
   ]
  },
  {
   "cell_type": "code",
   "execution_count": null,
   "metadata": {},
   "outputs": [],
   "source": [
    "for specialty in specialty_keys:\n",
    "    x_values = []\n",
    "    y_values = []\n",
    "    y_min = 8000\n",
    "    y_max = 16000\n",
    "\n",
    "    fig = go.Figure()\n",
    "    for i, finger in enumerate(average_specialty_tps[specialty].keys()):\n",
    "        x_values.append(i)\n",
    "        y_values.append(average_specialty_tps[specialty][finger][\"mean\"])\n",
    "    y_values = (np.array(y_values) - 8000) / 8000\n",
    "\n",
    "    fig.add_trace(go.Scatter(\n",
    "        x=x_values,\n",
    "        y=y_values,\n",
    "        marker=dict(\n",
    "            size=16,\n",
    "            cmax=1,\n",
    "            cmin=0,\n",
    "            color=y_values,\n",
    "            colorbar=dict(\n",
    "                title=\"Colorbar\"\n",
    "            ),\n",
    "            colorscale=\"rdylgn_r\"\n",
    "        ),\n",
    "        mode=\"markers\"))\n",
    "\n",
    "    fig.write_image(join(data_folder, \"figures\", \"colorscale_tps_\" + specialty + \".svg\"))"
   ]
  },
  {
   "cell_type": "markdown",
   "metadata": {},
   "source": [
    "### group per expertise"
   ]
  },
  {
   "cell_type": "code",
   "execution_count": null,
   "metadata": {},
   "outputs": [],
   "source": [
    "expertise_tps = {}\n",
    "for e in expertise_keys:\n",
    "    expertise_tps[e] = {}\n",
    "\n",
    "for l in ['right', 'left']:\n",
    "    for f in ['index', 'middle', 'thumb']:\n",
    "        key = l + '_' + f\n",
    "        for e in expertise_keys:\n",
    "            expertise_tps[e][key] = []\n",
    "            \n",
    "for key, value in tps_forces.items():\n",
    "    expertise = subject_data.loc[subject_data[\"subject\"] == int(key)][\"level\"].values[0]\n",
    "    for finger, values in value.items(): \n",
    "        f = finger.replace(\"_raw\", \"\")\n",
    "        for run in values:\n",
    "            expertise_tps[expertise][f] = expertise_tps[expertise][f] + run.tolist()"
   ]
  },
  {
   "cell_type": "code",
   "execution_count": null,
   "metadata": {},
   "outputs": [],
   "source": [
    "average_expertise_tps = {}\n",
    "for e in expertise_keys:\n",
    "    average_expertise_tps[e] = {}\n",
    "\n",
    "for l in ['right', 'left']:\n",
    "    for f in ['index', 'middle', 'thumb']:\n",
    "        key = l + '_' + f\n",
    "        for e in expertise_keys:\n",
    "            average_expertise_tps[e][key] = {}\n",
    "        \n",
    "for expertise, data in expertise_tps.items():\n",
    "    for finger, values in data.items():\n",
    "        average_expertise_tps[expertise][finger][\"mean\"] = np.mean(values)\n",
    "        average_expertise_tps[expertise][finger][\"std\"] = np.std(values)"
   ]
  },
  {
   "cell_type": "code",
   "execution_count": null,
   "metadata": {},
   "outputs": [],
   "source": [
    "fig = go.Figure()\n",
    "for expertise, fingers in average_expertise_tps.items():\n",
    "    finger_names = list(fingers.keys())\n",
    "    finger_mean = []\n",
    "    finger_std = []\n",
    "    for finger in finger_names:\n",
    "        finger_mean.append(fingers[finger]['mean'])\n",
    "        finger_std.append(fingers[finger]['std'])\n",
    "    fig.add_trace(go.Bar(\n",
    "        name=expertise,\n",
    "        x=finger_names,\n",
    "        y=finger_mean,\n",
    "        error_y=dict(type='data', array=finger_std)\n",
    "    ))\n",
    "fig.update_layout(barmode='group')\n",
    "fig.write_image(join(data_folder, \"figures\", \"tps_per_expertise.svg\"))"
   ]
  },
  {
   "cell_type": "markdown",
   "metadata": {},
   "source": [
    "### heatmap per expertise"
   ]
  },
  {
   "cell_type": "code",
   "execution_count": null,
   "metadata": {},
   "outputs": [],
   "source": [
    "for expertise in expertise_keys:\n",
    "    x_values = []\n",
    "    y_values = []\n",
    "    y_min = 8000\n",
    "    y_max = 16000\n",
    "\n",
    "    fig = go.Figure()\n",
    "    for i, finger in enumerate(average_expertise_tps[expertise].keys()):\n",
    "        x_values.append(i)\n",
    "        y_values.append(average_expertise_tps[expertise][finger][\"mean\"])\n",
    "    y_values = (np.array(y_values) - 8000) / 8000\n",
    "\n",
    "    fig.add_trace(go.Scatter(\n",
    "        x=x_values,\n",
    "        y=y_values,\n",
    "        marker=dict(\n",
    "            size=16,\n",
    "            cmax=1,\n",
    "            cmin=0,\n",
    "            color=y_values,\n",
    "            colorbar=dict(\n",
    "                title=\"Colorbar\"\n",
    "            ),\n",
    "            colorscale=\"rdylgn_r\"\n",
    "        ),\n",
    "        mode=\"markers\"))\n",
    "\n",
    "    fig.write_image(join(data_folder, \"figures\", \"colorscale_tps_\" + expertise + \".svg\"))"
   ]
  },
  {
   "cell_type": "markdown",
   "metadata": {},
   "source": [
    "### group per specialty & expertise"
   ]
  },
  {
   "cell_type": "code",
   "execution_count": null,
   "metadata": {},
   "outputs": [],
   "source": [
    "specialty_expertise_tps = {}\n",
    "for s in specialty_keys:\n",
    "    specialty_expertise_tps[s] = {}\n",
    "    for expertise in expertise_keys:\n",
    "        specialty_expertise_tps[s][expertise] = {}\n",
    "\n",
    "for l in ['right', 'left']:\n",
    "    for f in ['index', 'middle', 'thumb']:\n",
    "        key = l + '_' + f\n",
    "        for s in specialty_keys:\n",
    "            for expertise in expertise_keys:\n",
    "                specialty_expertise_tps[s][expertise][key] = []\n",
    "            \n",
    "for key, value in tps_forces.items():\n",
    "    specialty = subject_data.loc[subject_data[\"subject\"] == int(key)][\"specialty\"].values[0]\n",
    "    expertise = subject_data.loc[subject_data[\"subject\"] == int(key)][\"level\"].values[0]\n",
    "    for finger, values in value.items(): \n",
    "        f = finger.replace(\"_raw\", \"\")\n",
    "        for run in values:\n",
    "            specialty_expertise_tps[specialty][expertise][f] = specialty_expertise_tps[specialty][expertise][f] + run.tolist()"
   ]
  },
  {
   "cell_type": "code",
   "execution_count": null,
   "metadata": {},
   "outputs": [],
   "source": [
    "average_specialty_expertise_tps = {}\n",
    "for s in specialty_keys:\n",
    "    average_specialty_expertise_tps[s] = {}\n",
    "    for expertise in expertise_keys:\n",
    "        average_specialty_expertise_tps[s][expertise] = {}\n",
    "        average_specialty_expertise_tps[s][expertise] = {}\n",
    "\n",
    "for l in ['right', 'left']:\n",
    "    for f in ['index', 'middle', 'thumb']:\n",
    "        key = l + '_' + f\n",
    "        for s in specialty_keys:\n",
    "            for expertise in expertise_keys:\n",
    "                average_specialty_expertise_tps[s][expertise][key] = {}\n",
    "        \n",
    "for specialty, data in specialty_expertise_tps.items():\n",
    "    for expertise, fingers in data.items():\n",
    "        for finger, values in fingers.items():\n",
    "            average_specialty_expertise_tps[specialty][expertise][finger][\"mean\"] = np.mean(values)\n",
    "            average_specialty_expertise_tps[specialty][expertise][finger][\"std\"] = np.std(values)"
   ]
  },
  {
   "cell_type": "code",
   "execution_count": null,
   "metadata": {},
   "outputs": [],
   "source": [
    "for specialty in specialty_keys:\n",
    "    fig = go.Figure()\n",
    "    for expertise, fingers in average_specialty_expertise_tps[specialty].items():\n",
    "        finger_names = list(fingers.keys())\n",
    "        finger_mean = []\n",
    "        finger_std = []\n",
    "        for finger in finger_names:\n",
    "            finger_mean.append(fingers[finger]['mean'])\n",
    "            finger_std.append(fingers[finger]['std'])\n",
    "        fig.add_trace(go.Bar(\n",
    "            name=expertise,\n",
    "            x=finger_names,\n",
    "            y=finger_mean,\n",
    "            error_y=dict(type='data', array=finger_std)\n",
    "        ))\n",
    "    fig.update_layout(barmode='group')\n",
    "    fig.write_image(join(data_folder, \"figures\", \"tps_per_expertise_\" + specialty + \".svg\"))"
   ]
  },
  {
   "cell_type": "markdown",
   "metadata": {},
   "source": [
    "### two way ANOVA"
   ]
  },
  {
   "cell_type": "code",
   "execution_count": null,
   "metadata": {},
   "outputs": [],
   "source": [
    "import statsmodels.api as sm\n",
    "from statsmodels.formula.api import ols\n",
    "import pandas as pd"
   ]
  },
  {
   "cell_type": "code",
   "execution_count": null,
   "metadata": {},
   "outputs": [],
   "source": [
    "# create the data separating expertise and specialty for each fingers\n",
    "finger_data = {}\n",
    "for l in ['right', 'left']:\n",
    "    for f in ['index', 'middle', 'thumb']:\n",
    "        key = l + '_' + f + '_raw'\n",
    "        finger_data[key] = []\n",
    "    \n",
    "for subject, data in average_tps.items():\n",
    "    specialty = subject_data.loc[subject_data[\"subject\"] == int(subject)][\"specialty\"].values[0]\n",
    "    expertise = subject_data.loc[subject_data[\"subject\"] == int(subject)][\"level\"].values[0]\n",
    "    for finger, values in data.items():\n",
    "        row = [specialty, expertise, values[\"mean\"]]\n",
    "        finger_data[finger].append(row)\n",
    "                \n",
    "finger_dataframes = {}\n",
    "for finger, values in finger_data.items():\n",
    "    finger_dataframes[finger] = pd.DataFrame(values, columns=[\"specialty\", \"expertise\", \"value\"])"
   ]
  },
  {
   "cell_type": "code",
   "execution_count": null,
   "metadata": {},
   "outputs": [],
   "source": [
    "finger_anova_results = {}\n",
    "for finger, dataframe in finger_dataframes.items():\n",
    "    #perform two-way ANOVA\n",
    "    model = ols('value ~ C(specialty) + C(expertise) + C(specialty):C(expertise)', data=dataframe).fit()\n",
    "    finger_anova_results[finger] = sm.stats.anova_lm(model, typ=2)"
   ]
  },
  {
   "cell_type": "code",
   "execution_count": null,
   "metadata": {},
   "outputs": [],
   "source": [
    "finger_anova_results[\"right_index_raw\"]"
   ]
  },
  {
   "cell_type": "code",
   "execution_count": null,
   "metadata": {},
   "outputs": [],
   "source": [
    "finger_anova_results[\"left_index_raw\"]"
   ]
  },
  {
   "cell_type": "code",
   "execution_count": null,
   "metadata": {},
   "outputs": [],
   "source": [
    "finger_anova_results[\"right_middle_raw\"]"
   ]
  },
  {
   "cell_type": "code",
   "execution_count": null,
   "metadata": {},
   "outputs": [],
   "source": [
    "finger_anova_results[\"left_middle_raw\"]"
   ]
  },
  {
   "cell_type": "code",
   "execution_count": null,
   "metadata": {},
   "outputs": [],
   "source": [
    "finger_anova_results[\"right_thumb_raw\"]"
   ]
  },
  {
   "cell_type": "code",
   "execution_count": null,
   "metadata": {},
   "outputs": [],
   "source": [
    "finger_anova_results[\"left_thumb_raw\"]"
   ]
  },
  {
   "cell_type": "markdown",
   "metadata": {},
   "source": [
    "### t-test"
   ]
  },
  {
   "cell_type": "code",
   "execution_count": null,
   "metadata": {},
   "outputs": [],
   "source": [
    "expertise_finger_data = {}\n",
    "specialty_finger_data = {}\n",
    "\n",
    "for l in ['right', 'left']:\n",
    "    for f in ['index', 'middle', 'thumb']:\n",
    "        key = l + '_' + f + '_raw'\n",
    "        expertise_finger_data[key] = {}\n",
    "        specialty_finger_data[key] = {}\n",
    "        for specialty in specialty_keys:\n",
    "            specialty_finger_data[key][specialty] = []\n",
    "        for expertise in expertise_keys:\n",
    "            expertise_finger_data[key][expertise] = []\n",
    "        \n",
    "for subject, data in average_tps_per_run.items():\n",
    "    specialty = subject_data.loc[subject_data[\"subject\"] == int(subject)][\"specialty\"].values[0]\n",
    "    expertise = subject_data.loc[subject_data[\"subject\"] == int(subject)][\"level\"].values[0]\n",
    "    for finger, values in data.items():\n",
    "        expertise_finger_data[finger][expertise] = expertise_finger_data[finger][expertise] + values\n",
    "        specialty_finger_data[finger][specialty] = specialty_finger_data[finger][specialty] + values"
   ]
  },
  {
   "cell_type": "code",
   "execution_count": null,
   "metadata": {},
   "outputs": [],
   "source": [
    "for f, data in expertise_finger_data.items():\n",
    "    print('####### ' + f + ' ########')\n",
    "    keys = list(data.keys())\n",
    "    for i in range(len(keys)):\n",
    "        for j in range(i + 1, len(keys)):\n",
    "            print('diff between ' + keys[i] + ' and ' + keys[j])\n",
    "            print(stats.ttest_ind(data[keys[i]], data[keys[j]]))\n",
    "            print('--------------')"
   ]
  },
  {
   "cell_type": "code",
   "execution_count": null,
   "metadata": {},
   "outputs": [],
   "source": [
    "for f, data in specialty_finger_data.items():\n",
    "    print('####### ' + f + ' ########')\n",
    "    keys = list(data.keys())\n",
    "    for i in range(len(keys)):\n",
    "        for j in range(i + 1, len(keys)):\n",
    "            print('diff between ' + keys[i] + ' and ' + keys[j])\n",
    "            print(stats.ttest_ind(data[keys[i]], data[keys[j]]))\n",
    "            print('--------------')"
   ]
  },
  {
   "cell_type": "markdown",
   "metadata": {},
   "source": [
    "# EMG analysis"
   ]
  },
  {
   "cell_type": "code",
   "execution_count": null,
   "metadata": {},
   "outputs": [],
   "source": [
    "average_emg_per_run = {}\n",
    "for key, value in emg_data.items():\n",
    "    average_emg_per_run[key] = {}\n",
    "    for channel, values in value.items():\n",
    "        average_emg_per_run[key][channel] = []\n",
    "        for run in values:\n",
    "            mean_value = np.mean(run)\n",
    "            if mean_value < 1000:\n",
    "                average_emg_per_run[key][channel].append(np.mean(run))"
   ]
  },
  {
   "cell_type": "code",
   "execution_count": null,
   "metadata": {},
   "outputs": [],
   "source": [
    "average_emg = {}\n",
    "for subject, channels in average_emg_per_run.items():\n",
    "    average_emg[subject] = {}\n",
    "    for channel, values in channels.items():\n",
    "        average_emg[subject][channel] = {}\n",
    "        average_emg[subject][channel]['mean'] = np.mean(values)\n",
    "        average_emg[subject][channel]['std'] = np.std(values)"
   ]
  },
  {
   "cell_type": "code",
   "execution_count": null,
   "metadata": {},
   "outputs": [],
   "source": [
    "fig = go.Figure()\n",
    "for subject, channels in average_emg.items():\n",
    "    channel_names = list(channels.keys())\n",
    "    channel_mean = []\n",
    "    channel_std = []\n",
    "    for channel in channel_names:\n",
    "        channel_mean.append(channels[channel]['mean'])\n",
    "        channel_std.append(channels[channel]['std'])\n",
    "    fig.add_trace(go.Bar(\n",
    "        name=subject,\n",
    "        x=channel_names,\n",
    "        y=channel_mean,\n",
    "        error_y=dict(type='data', array=channel_std)\n",
    "    ))\n",
    "fig.update_layout(barmode='group')"
   ]
  },
  {
   "cell_type": "markdown",
   "metadata": {},
   "source": [
    "### group per specialty"
   ]
  },
  {
   "cell_type": "code",
   "execution_count": null,
   "metadata": {},
   "outputs": [],
   "source": [
    "specialty_emg = {}\n",
    "for s in specialty_keys:\n",
    "    specialty_emg[s] = {}\n",
    "\n",
    "for key in ['emg' + str(x) for x in range(8)]:\n",
    "    for s in specialty_keys:\n",
    "        specialty_emg[s][key] = []\n",
    "            \n",
    "for key, value in emg_data.items():\n",
    "    specialty = subject_data.loc[subject_data[\"subject\"] == int(key)][\"specialty\"].values[0]\n",
    "    for channel, values in value.items(): \n",
    "        for run in values:\n",
    "            mean_value = np.mean(run)\n",
    "            if mean_value < 1000:\n",
    "                specialty_emg[specialty][channel] = specialty_emg[specialty][channel] + run.tolist()"
   ]
  },
  {
   "cell_type": "code",
   "execution_count": null,
   "metadata": {},
   "outputs": [],
   "source": [
    "average_specialty_emg = {}\n",
    "for s in specialty_keys:\n",
    "    average_specialty_emg[s] = {}\n",
    "\n",
    "for key in ['emg' + str(x) for x in range(8)]:\n",
    "    for s in specialty_keys:\n",
    "        average_specialty_emg[s][key] = {}\n",
    "        \n",
    "for specialty, data in specialty_emg.items():\n",
    "    for channel, values in data.items():\n",
    "        average_specialty_emg[specialty][channel][\"mean\"] = np.mean(values)\n",
    "        average_specialty_emg[specialty][channel][\"std\"] = np.std(values)"
   ]
  },
  {
   "cell_type": "code",
   "execution_count": null,
   "metadata": {},
   "outputs": [],
   "source": [
    "fig = go.Figure()\n",
    "for specialty, channels in average_specialty_emg.items():\n",
    "    channel_names = list(channels.keys())\n",
    "    channel_mean = []\n",
    "    channel_std = []\n",
    "    for channel in channel_names:\n",
    "        channel_mean.append(channels[channel]['mean'])\n",
    "        channel_std.append(channels[channel]['std'])\n",
    "    fig.add_trace(go.Bar(\n",
    "        name=specialty,\n",
    "        x=channel_names,\n",
    "        y=channel_mean,\n",
    "        error_y=dict(type='data', array=channel_std)\n",
    "    ))\n",
    "fig.update_layout(barmode='group')\n",
    "fig.write_image(join(data_folder, \"figures\", \"emg_per_speciatly.svg\"))"
   ]
  },
  {
   "cell_type": "markdown",
   "metadata": {},
   "source": [
    "### heatmap per specialty"
   ]
  },
  {
   "cell_type": "code",
   "execution_count": null,
   "metadata": {},
   "outputs": [],
   "source": [
    "for specialty in specialty_keys:\n",
    "    x_values = []\n",
    "    y_values = []\n",
    "    y_min = 0\n",
    "    y_max = 100\n",
    "\n",
    "    fig = go.Figure()\n",
    "    for i, channel in enumerate(average_specialty_emg[specialty].keys()):\n",
    "        x_values.append(i)\n",
    "        y_values.append(average_specialty_emg[specialty][channel][\"mean\"])\n",
    "    y_values = (np.array(y_values) - y_min) / (y_max - y_min)\n",
    "\n",
    "    fig.add_trace(go.Scatter(\n",
    "        x=x_values,\n",
    "        y=y_values,\n",
    "        marker=dict(\n",
    "            size=16,\n",
    "            cmax=1,\n",
    "            cmin=0,\n",
    "            color=y_values,\n",
    "            colorbar=dict(\n",
    "                title=\"Colorbar\"\n",
    "            ),\n",
    "            colorscale=\"rdylgn_r\"\n",
    "        ),\n",
    "        mode=\"markers\"))\n",
    "\n",
    "    fig.write_image(join(data_folder, \"figures\", \"colorscale_emg_\" + specialty + \".svg\"))"
   ]
  },
  {
   "cell_type": "markdown",
   "metadata": {},
   "source": [
    "### group per expertise"
   ]
  },
  {
   "cell_type": "code",
   "execution_count": null,
   "metadata": {},
   "outputs": [],
   "source": [
    "expertise_emg = {}\n",
    "for e in expertise_keys:\n",
    "    expertise_emg[e] = {}\n",
    "\n",
    "for key in ['emg' + str(x) for x in range(8)]:\n",
    "    for e in expertise_keys:\n",
    "        expertise_emg[e][key] = []\n",
    "            \n",
    "for key, value in emg_data.items():\n",
    "    expertise = subject_data.loc[subject_data[\"subject\"] == int(key)][\"level\"].values[0]\n",
    "    for channel, values in value.items(): \n",
    "        for run in values:\n",
    "            mean_value = np.mean(run)\n",
    "            if mean_value < 1000:\n",
    "                expertise_emg[expertise][channel] = expertise_emg[expertise][channel] + run.tolist()"
   ]
  },
  {
   "cell_type": "code",
   "execution_count": null,
   "metadata": {},
   "outputs": [],
   "source": [
    "average_expertise_emg = {}\n",
    "for e in expertise_keys:\n",
    "    average_expertise_emg[e] = {}\n",
    "\n",
    "for key in ['emg' + str(x) for x in range(8)]:\n",
    "    for e in expertise_keys:\n",
    "        average_expertise_emg[e][key] = {}\n",
    "        \n",
    "for expertise, data in expertise_emg.items():\n",
    "    for channel, values in data.items():\n",
    "        average_expertise_emg[expertise][channel][\"mean\"] = np.mean(values)\n",
    "        average_expertise_emg[expertise][channel][\"std\"] = np.std(values)"
   ]
  },
  {
   "cell_type": "code",
   "execution_count": null,
   "metadata": {},
   "outputs": [],
   "source": [
    "fig = go.Figure()\n",
    "for expertise, channels in average_expertise_emg.items():\n",
    "    channel_names = list(channels.keys())\n",
    "    channel_mean = []\n",
    "    channel_std = []\n",
    "    for channel in channel_names:\n",
    "        channel_mean.append(channels[channel]['mean'])\n",
    "        channel_std.append(channels[channel]['std'])\n",
    "    fig.add_trace(go.Bar(\n",
    "        name=expertise,\n",
    "        x=channel_names,\n",
    "        y=channel_mean,\n",
    "        error_y=dict(type='data', array=channel_std)\n",
    "    ))\n",
    "fig.update_layout(barmode='group')\n",
    "fig.write_image(join(data_folder, \"figures\", \"emg_per_expertise.svg\"))"
   ]
  },
  {
   "cell_type": "markdown",
   "metadata": {},
   "source": [
    "### heatmap per expertise"
   ]
  },
  {
   "cell_type": "code",
   "execution_count": null,
   "metadata": {},
   "outputs": [],
   "source": [
    "for expertise in expertise_keys:\n",
    "    x_values = []\n",
    "    y_values = []\n",
    "    y_min = 0\n",
    "    y_max = 100\n",
    "\n",
    "    fig = go.Figure()\n",
    "    for i, channel in enumerate(average_expertise_emg[expertise].keys()):\n",
    "        x_values.append(i)\n",
    "        y_values.append(average_expertise_emg[expertise][channel][\"mean\"])\n",
    "    y_values = (np.array(y_values) - y_min) / (y_max - y_min)\n",
    "\n",
    "    fig.add_trace(go.Scatter(\n",
    "        x=x_values,\n",
    "        y=y_values,\n",
    "        marker=dict(\n",
    "            size=16,\n",
    "            cmax=1,\n",
    "            cmin=0,\n",
    "            color=y_values,\n",
    "            colorbar=dict(\n",
    "                title=\"Colorbar\"\n",
    "            ),\n",
    "            colorscale=\"rdylgn_r\"\n",
    "        ),\n",
    "        mode=\"markers\"))\n",
    "\n",
    "    fig.write_image(join(data_folder, \"figures\", \"colorscale_emg_\" + expertise + \".svg\"))"
   ]
  },
  {
   "cell_type": "markdown",
   "metadata": {},
   "source": [
    "### group per expertise & specialty"
   ]
  },
  {
   "cell_type": "code",
   "execution_count": null,
   "metadata": {},
   "outputs": [],
   "source": [
    "specialty_expertise_emg = {}\n",
    "for s in specialty_keys:\n",
    "    specialty_expertise_emg[s] = {}\n",
    "    for expertise in expertise_keys:\n",
    "        specialty_expertise_emg[s][expertise] = {}\n",
    "        for key in ['emg' + str(x) for x in range(8)]:\n",
    "            specialty_expertise_emg[s][expertise][key] = []\n",
    "            \n",
    "for key, value in emg_data.items():\n",
    "    specialty = subject_data.loc[subject_data[\"subject\"] == int(key)][\"specialty\"].values[0]\n",
    "    expertise = subject_data.loc[subject_data[\"subject\"] == int(key)][\"level\"].values[0]\n",
    "    for channel, values in value.items(): \n",
    "        for run in values:\n",
    "            mean_value = np.mean(run)\n",
    "            if mean_value < 1000:\n",
    "                specialty_expertise_emg[specialty][expertise][channel] = specialty_expertise_emg[specialty][expertise][channel] + run.tolist()"
   ]
  },
  {
   "cell_type": "code",
   "execution_count": null,
   "metadata": {},
   "outputs": [],
   "source": [
    "average_specialty_expertise_emg = {}\n",
    "for s in specialty_keys:\n",
    "    average_specialty_expertise_emg[s] = {}\n",
    "    for expertise in expertise_keys:\n",
    "        average_specialty_expertise_emg[s][expertise] = {}\n",
    "        for key in ['emg' + str(x) for x in range(8)]:\n",
    "            average_specialty_expertise_emg[s][expertise][key] = {}\n",
    "        \n",
    "for specialty, data in specialty_expertise_emg.items():\n",
    "    for expertise, channels in data.items():\n",
    "        for channel, values in channels.items():\n",
    "            average_specialty_expertise_emg[specialty][expertise][channel][\"mean\"] = np.mean(values)\n",
    "            average_specialty_expertise_emg[specialty][expertise][channel][\"std\"] = np.std(values)"
   ]
  },
  {
   "cell_type": "code",
   "execution_count": null,
   "metadata": {},
   "outputs": [],
   "source": [
    "for specialty in specialty_keys:\n",
    "    fig = go.Figure()\n",
    "    for expertise, channels in average_specialty_expertise_emg[specialty].items():\n",
    "        channel_names = list(channels.keys())\n",
    "        channel_mean = []\n",
    "        channel_std = []\n",
    "        for channel in channel_names:\n",
    "            channel_mean.append(channels[channel]['mean'])\n",
    "            channel_std.append(channels[channel]['std'])\n",
    "        fig.add_trace(go.Bar(\n",
    "            name=expertise,\n",
    "            x=channel_names,\n",
    "            y=channel_mean,\n",
    "            error_y=dict(type='data', array=channel_std)\n",
    "        ))\n",
    "    fig.update_layout(barmode='group')\n",
    "    fig.write_image(join(data_folder, \"figures\", \"emg_per_expertise_\" + specialty + \".svg\"))"
   ]
  },
  {
   "cell_type": "markdown",
   "metadata": {},
   "source": [
    "### two ways ANOVA"
   ]
  },
  {
   "cell_type": "code",
   "execution_count": null,
   "metadata": {},
   "outputs": [],
   "source": [
    "# create the data separating expertise and specialty for each channels\n",
    "channels_data = {}\n",
    "\n",
    "for key in ['emg' + str(x) for x in range(8)]:\n",
    "    channels_data[key] = []\n",
    "        \n",
    "for subject, data in average_emg.items():\n",
    "    specialty = subject_data.loc[subject_data[\"subject\"] == int(subject)][\"specialty\"].values[0]\n",
    "    expertise = subject_data.loc[subject_data[\"subject\"] == int(subject)][\"level\"].values[0]\n",
    "    for channel, values in data.items():\n",
    "        row = [specialty, expertise, values[\"mean\"]]\n",
    "        channels_data[channel].append(row)\n",
    "                \n",
    "channels_dataframes = {}\n",
    "for channel, values in channels_data.items():\n",
    "    channels_dataframes[channel] = pd.DataFrame(values, columns=[\"specialty\", \"expertise\", \"value\"])"
   ]
  },
  {
   "cell_type": "code",
   "execution_count": null,
   "metadata": {},
   "outputs": [],
   "source": [
    "emg_anova_results = {}\n",
    "for channel, dataframe in channels_dataframes.items():\n",
    "    #perform two-way ANOVA\n",
    "    model = ols('value ~ C(specialty) + C(expertise) + C(specialty):C(expertise)', data=dataframe).fit()\n",
    "    emg_anova_results[channel] = sm.stats.anova_lm(model, typ=2)"
   ]
  },
  {
   "cell_type": "code",
   "execution_count": null,
   "metadata": {},
   "outputs": [],
   "source": [
    "emg_anova_results[\"emg0\"]"
   ]
  },
  {
   "cell_type": "code",
   "execution_count": null,
   "metadata": {},
   "outputs": [],
   "source": [
    "emg_anova_results[\"emg1\"]"
   ]
  },
  {
   "cell_type": "code",
   "execution_count": null,
   "metadata": {},
   "outputs": [],
   "source": [
    "emg_anova_results[\"emg2\"]"
   ]
  },
  {
   "cell_type": "code",
   "execution_count": null,
   "metadata": {},
   "outputs": [],
   "source": [
    "emg_anova_results[\"emg3\"]"
   ]
  },
  {
   "cell_type": "code",
   "execution_count": null,
   "metadata": {},
   "outputs": [],
   "source": [
    "emg_anova_results[\"emg4\"]"
   ]
  },
  {
   "cell_type": "code",
   "execution_count": null,
   "metadata": {},
   "outputs": [],
   "source": [
    "emg_anova_results[\"emg5\"]"
   ]
  },
  {
   "cell_type": "code",
   "execution_count": null,
   "metadata": {},
   "outputs": [],
   "source": [
    "emg_anova_results[\"emg6\"]"
   ]
  },
  {
   "cell_type": "code",
   "execution_count": null,
   "metadata": {},
   "outputs": [],
   "source": [
    "emg_anova_results[\"emg7\"]"
   ]
  },
  {
   "cell_type": "markdown",
   "metadata": {},
   "source": [
    "### t-test"
   ]
  },
  {
   "cell_type": "code",
   "execution_count": null,
   "metadata": {},
   "outputs": [],
   "source": [
    "expertise_channel_data = {}\n",
    "specialty_channel_data = {}\n",
    "\n",
    "for key in ['emg' + str(x) for x in range(8)]:\n",
    "    expertise_channel_data[key] = {}\n",
    "    specialty_channel_data[key] = {}\n",
    "    for specialty in specialty_keys:\n",
    "        specialty_channel_data[key][specialty] = []\n",
    "    for expertise in expertise_keys:\n",
    "        expertise_channel_data[key][expertise] = []\n",
    "        \n",
    "for subject, data in average_emg_per_run.items():\n",
    "    specialty = subject_data.loc[subject_data[\"subject\"] == int(subject)][\"specialty\"].values[0]\n",
    "    expertise = subject_data.loc[subject_data[\"subject\"] == int(subject)][\"level\"].values[0]\n",
    "    for channel, values in data.items():\n",
    "        expertise_channel_data[channel][expertise] = expertise_channel_data[channel][expertise] + values\n",
    "        specialty_channel_data[channel][specialty] = specialty_channel_data[channel][specialty] + values"
   ]
  },
  {
   "cell_type": "code",
   "execution_count": null,
   "metadata": {},
   "outputs": [],
   "source": [
    "for f, data in expertise_channel_data.items():\n",
    "    print('####### ' + f + ' ########')\n",
    "    keys = list(data.keys())\n",
    "    for i in range(len(keys)):\n",
    "        for j in range(i + 1, len(keys)):\n",
    "            print('diff between ' + keys[i] + ' and ' + keys[j])\n",
    "            print(stats.ttest_ind(data[keys[i]], data[keys[j]]))\n",
    "            print('--------------')"
   ]
  },
  {
   "cell_type": "code",
   "execution_count": null,
   "metadata": {},
   "outputs": [],
   "source": [
    "for f, data in specialty_channel_data.items():\n",
    "    print('####### ' + f + ' ########')\n",
    "    keys = list(data.keys())\n",
    "    for i in range(len(keys)):\n",
    "        for j in range(i + 1, len(keys)):\n",
    "            print('diff between ' + keys[i] + ' and ' + keys[j])\n",
    "            print(stats.ttest_ind(data[keys[i]], data[keys[j]]))\n",
    "            print('--------------')"
   ]
  },
  {
   "cell_type": "code",
   "execution_count": null,
   "metadata": {},
   "outputs": [],
   "source": []
  }
 ],
 "metadata": {
  "kernelspec": {
   "display_name": "Python 3 (ipykernel)",
   "language": "python",
   "name": "python3"
  },
  "language_info": {
   "codemirror_mode": {
    "name": "ipython",
    "version": 3
   },
   "file_extension": ".py",
   "mimetype": "text/x-python",
   "name": "python",
   "nbconvert_exporter": "python",
   "pygments_lexer": "ipython3",
   "version": "3.8.12"
  }
 },
 "nbformat": 4,
 "nbformat_minor": 4
}
